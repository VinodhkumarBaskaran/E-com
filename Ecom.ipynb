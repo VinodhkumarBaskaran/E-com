{
 "cells": [
  {
   "cell_type": "code",
   "execution_count": 1,
   "metadata": {},
   "outputs": [],
   "source": [
    "import warnings\n",
    "warnings.filterwarnings(\"ignore\")"
   ]
  },
  {
   "cell_type": "code",
   "execution_count": 2,
   "metadata": {},
   "outputs": [],
   "source": [
    "import pandas as pd\n",
    "import matplotlib.pyplot as plt\n",
    "import numpy as np"
   ]
  },
  {
   "cell_type": "code",
   "execution_count": 3,
   "metadata": {},
   "outputs": [],
   "source": [
    "df=pd.read_excel(\"Case_study_DataSet.xlsx\",sheet_name=1)"
   ]
  },
  {
   "cell_type": "code",
   "execution_count": 4,
   "metadata": {},
   "outputs": [
    {
     "data": {
      "text/html": [
       "<div>\n",
       "<style scoped>\n",
       "    .dataframe tbody tr th:only-of-type {\n",
       "        vertical-align: middle;\n",
       "    }\n",
       "\n",
       "    .dataframe tbody tr th {\n",
       "        vertical-align: top;\n",
       "    }\n",
       "\n",
       "    .dataframe thead th {\n",
       "        text-align: right;\n",
       "    }\n",
       "</style>\n",
       "<table border=\"1\" class=\"dataframe\">\n",
       "  <thead>\n",
       "    <tr style=\"text-align: right;\">\n",
       "      <th></th>\n",
       "      <th>Month</th>\n",
       "      <th>Weekend</th>\n",
       "      <th>Ana_1</th>\n",
       "      <th>Ana_2</th>\n",
       "      <th>Ana_3</th>\n",
       "      <th>Ana_4</th>\n",
       "      <th>Ana_5</th>\n",
       "      <th>Ana_6</th>\n",
       "      <th>SellerPortal</th>\n",
       "      <th>SellerPortal_timespent</th>\n",
       "      <th>HelpPage</th>\n",
       "      <th>HelpPage_TimeSpent</th>\n",
       "      <th>ViewItem</th>\n",
       "      <th>ViewItem_TimeSpent</th>\n",
       "      <th>PageNotLoadingRate</th>\n",
       "      <th>PageExitRate</th>\n",
       "      <th>PageValues</th>\n",
       "      <th>Holiday_Spl_day</th>\n",
       "      <th>Customer Type</th>\n",
       "      <th>Conversion_Flag</th>\n",
       "    </tr>\n",
       "  </thead>\n",
       "  <tbody>\n",
       "    <tr>\n",
       "      <th>0</th>\n",
       "      <td>Jan</td>\n",
       "      <td>False</td>\n",
       "      <td>2</td>\n",
       "      <td>2</td>\n",
       "      <td>1</td>\n",
       "      <td>3</td>\n",
       "      <td>0.462560</td>\n",
       "      <td>783</td>\n",
       "      <td>0</td>\n",
       "      <td>0.0</td>\n",
       "      <td>0</td>\n",
       "      <td>0.0</td>\n",
       "      <td>19</td>\n",
       "      <td>154.216667</td>\n",
       "      <td>0.015789</td>\n",
       "      <td>0.024561</td>\n",
       "      <td>0.0</td>\n",
       "      <td>0.0</td>\n",
       "      <td>Existing</td>\n",
       "      <td>False</td>\n",
       "    </tr>\n",
       "    <tr>\n",
       "      <th>1</th>\n",
       "      <td>Jan</td>\n",
       "      <td>False</td>\n",
       "      <td>4</td>\n",
       "      <td>1</td>\n",
       "      <td>1</td>\n",
       "      <td>3</td>\n",
       "      <td>0.859220</td>\n",
       "      <td>748</td>\n",
       "      <td>0</td>\n",
       "      <td>0.0</td>\n",
       "      <td>0</td>\n",
       "      <td>0.0</td>\n",
       "      <td>4</td>\n",
       "      <td>88.000000</td>\n",
       "      <td>0.000000</td>\n",
       "      <td>0.050000</td>\n",
       "      <td>0.0</td>\n",
       "      <td>0.0</td>\n",
       "      <td>Existing</td>\n",
       "      <td>False</td>\n",
       "    </tr>\n",
       "    <tr>\n",
       "      <th>2</th>\n",
       "      <td>Jan</td>\n",
       "      <td>True</td>\n",
       "      <td>4</td>\n",
       "      <td>1</td>\n",
       "      <td>1</td>\n",
       "      <td>5</td>\n",
       "      <td>0.032907</td>\n",
       "      <td>835</td>\n",
       "      <td>0</td>\n",
       "      <td>0.0</td>\n",
       "      <td>0</td>\n",
       "      <td>0.0</td>\n",
       "      <td>7</td>\n",
       "      <td>208.000000</td>\n",
       "      <td>0.000000</td>\n",
       "      <td>0.028571</td>\n",
       "      <td>0.0</td>\n",
       "      <td>0.0</td>\n",
       "      <td>Existing</td>\n",
       "      <td>False</td>\n",
       "    </tr>\n",
       "    <tr>\n",
       "      <th>3</th>\n",
       "      <td>Jan</td>\n",
       "      <td>False</td>\n",
       "      <td>3</td>\n",
       "      <td>2</td>\n",
       "      <td>1</td>\n",
       "      <td>3</td>\n",
       "      <td>0.290953</td>\n",
       "      <td>649</td>\n",
       "      <td>0</td>\n",
       "      <td>0.0</td>\n",
       "      <td>0</td>\n",
       "      <td>0.0</td>\n",
       "      <td>21</td>\n",
       "      <td>1146.333333</td>\n",
       "      <td>0.000000</td>\n",
       "      <td>0.012963</td>\n",
       "      <td>0.0</td>\n",
       "      <td>0.8</td>\n",
       "      <td>Existing</td>\n",
       "      <td>False</td>\n",
       "    </tr>\n",
       "    <tr>\n",
       "      <th>4</th>\n",
       "      <td>Jan</td>\n",
       "      <td>False</td>\n",
       "      <td>2</td>\n",
       "      <td>2</td>\n",
       "      <td>2</td>\n",
       "      <td>3</td>\n",
       "      <td>0.024576</td>\n",
       "      <td>653</td>\n",
       "      <td>0</td>\n",
       "      <td>0.0</td>\n",
       "      <td>0</td>\n",
       "      <td>0.0</td>\n",
       "      <td>1</td>\n",
       "      <td>0.000000</td>\n",
       "      <td>0.200000</td>\n",
       "      <td>0.200000</td>\n",
       "      <td>0.0</td>\n",
       "      <td>0.0</td>\n",
       "      <td>Existing</td>\n",
       "      <td>False</td>\n",
       "    </tr>\n",
       "  </tbody>\n",
       "</table>\n",
       "</div>"
      ],
      "text/plain": [
       "  Month  Weekend  Ana_1  Ana_2  Ana_3  Ana_4     Ana_5  Ana_6  SellerPortal  \\\n",
       "0   Jan    False      2      2      1      3  0.462560    783             0   \n",
       "1   Jan    False      4      1      1      3  0.859220    748             0   \n",
       "2   Jan     True      4      1      1      5  0.032907    835             0   \n",
       "3   Jan    False      3      2      1      3  0.290953    649             0   \n",
       "4   Jan    False      2      2      2      3  0.024576    653             0   \n",
       "\n",
       "   SellerPortal_timespent  HelpPage  HelpPage_TimeSpent  ViewItem  \\\n",
       "0                     0.0         0                 0.0        19   \n",
       "1                     0.0         0                 0.0         4   \n",
       "2                     0.0         0                 0.0         7   \n",
       "3                     0.0         0                 0.0        21   \n",
       "4                     0.0         0                 0.0         1   \n",
       "\n",
       "   ViewItem_TimeSpent  PageNotLoadingRate  PageExitRate  PageValues  \\\n",
       "0          154.216667            0.015789      0.024561         0.0   \n",
       "1           88.000000            0.000000      0.050000         0.0   \n",
       "2          208.000000            0.000000      0.028571         0.0   \n",
       "3         1146.333333            0.000000      0.012963         0.0   \n",
       "4            0.000000            0.200000      0.200000         0.0   \n",
       "\n",
       "   Holiday_Spl_day Customer Type  Conversion_Flag  \n",
       "0              0.0      Existing            False  \n",
       "1              0.0      Existing            False  \n",
       "2              0.0      Existing            False  \n",
       "3              0.8      Existing            False  \n",
       "4              0.0      Existing            False  "
      ]
     },
     "execution_count": 4,
     "metadata": {},
     "output_type": "execute_result"
    }
   ],
   "source": [
    "df.head()"
   ]
  },
  {
   "cell_type": "code",
   "execution_count": 5,
   "metadata": {},
   "outputs": [],
   "source": [
    "df['Weekend']=df['Weekend'].map({False:'Weekdays',True:'Weekend'}) # For better readiability"
   ]
  },
  {
   "cell_type": "code",
   "execution_count": 6,
   "metadata": {},
   "outputs": [
    {
     "data": {
      "text/plain": [
       "array(['Existing', ' NewlyAcquired', ' Existing', ' Undetermined'],\n",
       "      dtype=object)"
      ]
     },
     "execution_count": 6,
     "metadata": {},
     "output_type": "execute_result"
    }
   ],
   "source": [
    "df['Customer Type'].unique()"
   ]
  },
  {
   "cell_type": "code",
   "execution_count": 7,
   "metadata": {},
   "outputs": [],
   "source": [
    "df['Customer Type']=df['Customer Type'].map({'Existing':'Existing',' Existing':'Existing',' NewlyAcquired':'NewlyAcquired',' Undetermined':'Undetermined'})"
   ]
  },
  {
   "cell_type": "code",
   "execution_count": 8,
   "metadata": {},
   "outputs": [
    {
     "data": {
      "text/plain": [
       "array(['Existing', 'NewlyAcquired', 'Undetermined'], dtype=object)"
      ]
     },
     "execution_count": 8,
     "metadata": {},
     "output_type": "execute_result"
    }
   ],
   "source": [
    "df['Customer Type'].unique()"
   ]
  },
  {
   "cell_type": "code",
   "execution_count": 9,
   "metadata": {},
   "outputs": [
    {
     "data": {
      "text/plain": [
       "Month                     0\n",
       "Weekend                   0\n",
       "Ana_1                     0\n",
       "Ana_2                     0\n",
       "Ana_3                     0\n",
       "Ana_4                     0\n",
       "Ana_5                     0\n",
       "Ana_6                     0\n",
       "SellerPortal              0\n",
       "SellerPortal_timespent    0\n",
       "HelpPage                  0\n",
       "HelpPage_TimeSpent        0\n",
       "ViewItem                  0\n",
       "ViewItem_TimeSpent        0\n",
       "PageNotLoadingRate        0\n",
       "PageExitRate              0\n",
       "PageValues                0\n",
       "Holiday_Spl_day           0\n",
       "Customer Type             0\n",
       "Conversion_Flag           0\n",
       "dtype: int64"
      ]
     },
     "execution_count": 9,
     "metadata": {},
     "output_type": "execute_result"
    }
   ],
   "source": [
    "df.isnull().sum()"
   ]
  },
  {
   "cell_type": "markdown",
   "metadata": {},
   "source": [
    "Noted : No null values in the dataset"
   ]
  },
  {
   "cell_type": "markdown",
   "metadata": {},
   "source": [
    "### EDA"
   ]
  },
  {
   "cell_type": "code",
   "execution_count": 10,
   "metadata": {},
   "outputs": [],
   "source": [
    "Sales_not_converted_month=df[df['Conversion_Flag']==False].groupby(['Month'])['Weekend'].count()\n",
    "Sales_converted_month=df[df['Conversion_Flag']==True].groupby(['Month'])['Weekend'].count()"
   ]
  },
  {
   "cell_type": "code",
   "execution_count": 11,
   "metadata": {},
   "outputs": [],
   "source": [
    "Sales_converted_month_df=pd.DataFrame({'Not_converted':Sales_not_converted_month,\"Converted\":Sales_converted_month})\n",
    "Sales_converted_month_df.sort_index(axis=1)\n",
    "months = [\"Jan\", \"Feb\", \"Mar\", \"Apr\", \"May\", \"Jun\", \n",
    "          \"Jul\", \"Aug\", \"Sep\", \"Oct\", \"Nov\", \"Dec\"]\n",
    "Sales_converted_month_df =Sales_converted_month_df.reindex(months, axis=0)\n",
    "Sales_converted_month_df['Target']=Sales_converted_month_df['Not_converted']+Sales_converted_month_df['Converted']\n",
    "Sales_converted_month_df['Converted_ratio']=Sales_converted_month_df['Converted']/Sales_converted_month_df['Target']"
   ]
  },
  {
   "cell_type": "code",
   "execution_count": 12,
   "metadata": {},
   "outputs": [
    {
     "data": {
      "text/html": [
       "<div>\n",
       "<style scoped>\n",
       "    .dataframe tbody tr th:only-of-type {\n",
       "        vertical-align: middle;\n",
       "    }\n",
       "\n",
       "    .dataframe tbody tr th {\n",
       "        vertical-align: top;\n",
       "    }\n",
       "\n",
       "    .dataframe thead th {\n",
       "        text-align: right;\n",
       "    }\n",
       "</style>\n",
       "<table border=\"1\" class=\"dataframe\">\n",
       "  <thead>\n",
       "    <tr style=\"text-align: right;\">\n",
       "      <th></th>\n",
       "      <th>Not_converted</th>\n",
       "      <th>Converted</th>\n",
       "      <th>Target</th>\n",
       "      <th>Converted_ratio</th>\n",
       "    </tr>\n",
       "    <tr>\n",
       "      <th>Month</th>\n",
       "      <th></th>\n",
       "      <th></th>\n",
       "      <th></th>\n",
       "      <th></th>\n",
       "    </tr>\n",
       "  </thead>\n",
       "  <tbody>\n",
       "    <tr>\n",
       "      <th>Jan</th>\n",
       "      <td>90</td>\n",
       "      <td>55</td>\n",
       "      <td>145</td>\n",
       "      <td>0.379310</td>\n",
       "    </tr>\n",
       "    <tr>\n",
       "      <th>Feb</th>\n",
       "      <td>280</td>\n",
       "      <td>48</td>\n",
       "      <td>328</td>\n",
       "      <td>0.146341</td>\n",
       "    </tr>\n",
       "    <tr>\n",
       "      <th>Mar</th>\n",
       "      <td>1810</td>\n",
       "      <td>242</td>\n",
       "      <td>2052</td>\n",
       "      <td>0.117934</td>\n",
       "    </tr>\n",
       "    <tr>\n",
       "      <th>Apr</th>\n",
       "      <td>104</td>\n",
       "      <td>41</td>\n",
       "      <td>145</td>\n",
       "      <td>0.282759</td>\n",
       "    </tr>\n",
       "    <tr>\n",
       "      <th>May</th>\n",
       "      <td>3098</td>\n",
       "      <td>411</td>\n",
       "      <td>3509</td>\n",
       "      <td>0.117127</td>\n",
       "    </tr>\n",
       "    <tr>\n",
       "      <th>Jun</th>\n",
       "      <td>359</td>\n",
       "      <td>74</td>\n",
       "      <td>433</td>\n",
       "      <td>0.170901</td>\n",
       "    </tr>\n",
       "    <tr>\n",
       "      <th>Jul</th>\n",
       "      <td>464</td>\n",
       "      <td>113</td>\n",
       "      <td>577</td>\n",
       "      <td>0.195841</td>\n",
       "    </tr>\n",
       "    <tr>\n",
       "      <th>Aug</th>\n",
       "      <td>460</td>\n",
       "      <td>117</td>\n",
       "      <td>577</td>\n",
       "      <td>0.202773</td>\n",
       "    </tr>\n",
       "    <tr>\n",
       "      <th>Sep</th>\n",
       "      <td>463</td>\n",
       "      <td>129</td>\n",
       "      <td>592</td>\n",
       "      <td>0.217905</td>\n",
       "    </tr>\n",
       "    <tr>\n",
       "      <th>Oct</th>\n",
       "      <td>529</td>\n",
       "      <td>164</td>\n",
       "      <td>693</td>\n",
       "      <td>0.236652</td>\n",
       "    </tr>\n",
       "    <tr>\n",
       "      <th>Nov</th>\n",
       "      <td>2337</td>\n",
       "      <td>805</td>\n",
       "      <td>3142</td>\n",
       "      <td>0.256206</td>\n",
       "    </tr>\n",
       "    <tr>\n",
       "      <th>Dec</th>\n",
       "      <td>1606</td>\n",
       "      <td>265</td>\n",
       "      <td>1871</td>\n",
       "      <td>0.141635</td>\n",
       "    </tr>\n",
       "  </tbody>\n",
       "</table>\n",
       "</div>"
      ],
      "text/plain": [
       "       Not_converted  Converted  Target  Converted_ratio\n",
       "Month                                                   \n",
       "Jan               90         55     145         0.379310\n",
       "Feb              280         48     328         0.146341\n",
       "Mar             1810        242    2052         0.117934\n",
       "Apr              104         41     145         0.282759\n",
       "May             3098        411    3509         0.117127\n",
       "Jun              359         74     433         0.170901\n",
       "Jul              464        113     577         0.195841\n",
       "Aug              460        117     577         0.202773\n",
       "Sep              463        129     592         0.217905\n",
       "Oct              529        164     693         0.236652\n",
       "Nov             2337        805    3142         0.256206\n",
       "Dec             1606        265    1871         0.141635"
      ]
     },
     "execution_count": 12,
     "metadata": {},
     "output_type": "execute_result"
    }
   ],
   "source": [
    "Sales_converted_month_df"
   ]
  },
  {
   "cell_type": "markdown",
   "metadata": {},
   "source": [
    "* Month which had higher conversion [>20%] are Jan,Apr,Nov,Oct,Sept,Aug,Jul"
   ]
  },
  {
   "cell_type": "code",
   "execution_count": 13,
   "metadata": {},
   "outputs": [
    {
     "data": {
      "text/html": [
       "<div>\n",
       "<style scoped>\n",
       "    .dataframe tbody tr th:only-of-type {\n",
       "        vertical-align: middle;\n",
       "    }\n",
       "\n",
       "    .dataframe tbody tr th {\n",
       "        vertical-align: top;\n",
       "    }\n",
       "\n",
       "    .dataframe thead th {\n",
       "        text-align: right;\n",
       "    }\n",
       "</style>\n",
       "<table border=\"1\" class=\"dataframe\">\n",
       "  <thead>\n",
       "    <tr style=\"text-align: right;\">\n",
       "      <th></th>\n",
       "      <th>Not_converted</th>\n",
       "      <th>Converted</th>\n",
       "      <th>Target</th>\n",
       "      <th>Converted_ratio</th>\n",
       "    </tr>\n",
       "    <tr>\n",
       "      <th>Weekend</th>\n",
       "      <th></th>\n",
       "      <th></th>\n",
       "      <th></th>\n",
       "      <th></th>\n",
       "    </tr>\n",
       "  </thead>\n",
       "  <tbody>\n",
       "    <tr>\n",
       "      <th>Weekdays</th>\n",
       "      <td>9016</td>\n",
       "      <td>1831</td>\n",
       "      <td>10847</td>\n",
       "      <td>0.168802</td>\n",
       "    </tr>\n",
       "    <tr>\n",
       "      <th>Weekend</th>\n",
       "      <td>2584</td>\n",
       "      <td>633</td>\n",
       "      <td>3217</td>\n",
       "      <td>0.196767</td>\n",
       "    </tr>\n",
       "  </tbody>\n",
       "</table>\n",
       "</div>"
      ],
      "text/plain": [
       "          Not_converted  Converted  Target  Converted_ratio\n",
       "Weekend                                                    \n",
       "Weekdays           9016       1831   10847         0.168802\n",
       "Weekend            2584        633    3217         0.196767"
      ]
     },
     "execution_count": 13,
     "metadata": {},
     "output_type": "execute_result"
    }
   ],
   "source": [
    "Sales_converted_not_week_df=df[df['Conversion_Flag']==False].groupby(['Weekend'])['Weekend'].count()\n",
    "Sales_converted_week_df=df[df['Conversion_Flag']==True].groupby(['Weekend'])['Weekend'].count()\n",
    "\n",
    "Sales_converted_week_df_df=pd.DataFrame({'Not_converted':Sales_converted_not_week_df,\"Converted\":Sales_converted_week_df})\n",
    "Sales_converted_week_df_df['Target']=Sales_converted_week_df_df['Not_converted']+Sales_converted_week_df_df['Converted']\n",
    "Sales_converted_week_df_df['Converted_ratio']=Sales_converted_week_df_df['Converted']/Sales_converted_week_df_df['Target']\n",
    "\n",
    "Sales_converted_week_df_df"
   ]
  },
  {
   "cell_type": "markdown",
   "metadata": {},
   "source": [
    "* Conversion seems higher on the weekend [20%]"
   ]
  },
  {
   "cell_type": "code",
   "execution_count": 14,
   "metadata": {},
   "outputs": [
    {
     "data": {
      "text/html": [
       "<div>\n",
       "<style scoped>\n",
       "    .dataframe tbody tr th:only-of-type {\n",
       "        vertical-align: middle;\n",
       "    }\n",
       "\n",
       "    .dataframe tbody tr th {\n",
       "        vertical-align: top;\n",
       "    }\n",
       "\n",
       "    .dataframe thead th {\n",
       "        text-align: right;\n",
       "    }\n",
       "</style>\n",
       "<table border=\"1\" class=\"dataframe\">\n",
       "  <thead>\n",
       "    <tr style=\"text-align: right;\">\n",
       "      <th></th>\n",
       "      <th>Weekend</th>\n",
       "      <th>Not_converted</th>\n",
       "      <th>Converted</th>\n",
       "      <th>Target</th>\n",
       "      <th>Converted_ratio</th>\n",
       "    </tr>\n",
       "    <tr>\n",
       "      <th>Month</th>\n",
       "      <th></th>\n",
       "      <th></th>\n",
       "      <th></th>\n",
       "      <th></th>\n",
       "      <th></th>\n",
       "    </tr>\n",
       "  </thead>\n",
       "  <tbody>\n",
       "    <tr>\n",
       "      <th>Jan</th>\n",
       "      <td>Weekdays</td>\n",
       "      <td>74</td>\n",
       "      <td>40</td>\n",
       "      <td>114</td>\n",
       "      <td>0.350877</td>\n",
       "    </tr>\n",
       "    <tr>\n",
       "      <th>Jan</th>\n",
       "      <td>Weekend</td>\n",
       "      <td>16</td>\n",
       "      <td>15</td>\n",
       "      <td>31</td>\n",
       "      <td>0.483871</td>\n",
       "    </tr>\n",
       "    <tr>\n",
       "      <th>Feb</th>\n",
       "      <td>Weekdays</td>\n",
       "      <td>232</td>\n",
       "      <td>38</td>\n",
       "      <td>270</td>\n",
       "      <td>0.140741</td>\n",
       "    </tr>\n",
       "    <tr>\n",
       "      <th>Feb</th>\n",
       "      <td>Weekend</td>\n",
       "      <td>48</td>\n",
       "      <td>10</td>\n",
       "      <td>58</td>\n",
       "      <td>0.172414</td>\n",
       "    </tr>\n",
       "    <tr>\n",
       "      <th>Mar</th>\n",
       "      <td>Weekend</td>\n",
       "      <td>436</td>\n",
       "      <td>70</td>\n",
       "      <td>506</td>\n",
       "      <td>0.138340</td>\n",
       "    </tr>\n",
       "    <tr>\n",
       "      <th>Mar</th>\n",
       "      <td>Weekdays</td>\n",
       "      <td>1374</td>\n",
       "      <td>172</td>\n",
       "      <td>1546</td>\n",
       "      <td>0.111255</td>\n",
       "    </tr>\n",
       "    <tr>\n",
       "      <th>Apr</th>\n",
       "      <td>Weekdays</td>\n",
       "      <td>87</td>\n",
       "      <td>34</td>\n",
       "      <td>121</td>\n",
       "      <td>0.280992</td>\n",
       "    </tr>\n",
       "    <tr>\n",
       "      <th>Apr</th>\n",
       "      <td>Weekend</td>\n",
       "      <td>17</td>\n",
       "      <td>7</td>\n",
       "      <td>24</td>\n",
       "      <td>0.291667</td>\n",
       "    </tr>\n",
       "    <tr>\n",
       "      <th>May</th>\n",
       "      <td>Weekend</td>\n",
       "      <td>630</td>\n",
       "      <td>109</td>\n",
       "      <td>739</td>\n",
       "      <td>0.147497</td>\n",
       "    </tr>\n",
       "    <tr>\n",
       "      <th>May</th>\n",
       "      <td>Weekdays</td>\n",
       "      <td>2468</td>\n",
       "      <td>302</td>\n",
       "      <td>2770</td>\n",
       "      <td>0.109025</td>\n",
       "    </tr>\n",
       "    <tr>\n",
       "      <th>Jun</th>\n",
       "      <td>Weekend</td>\n",
       "      <td>64</td>\n",
       "      <td>15</td>\n",
       "      <td>79</td>\n",
       "      <td>0.189873</td>\n",
       "    </tr>\n",
       "    <tr>\n",
       "      <th>Jun</th>\n",
       "      <td>Weekdays</td>\n",
       "      <td>295</td>\n",
       "      <td>59</td>\n",
       "      <td>354</td>\n",
       "      <td>0.166667</td>\n",
       "    </tr>\n",
       "    <tr>\n",
       "      <th>Jul</th>\n",
       "      <td>Weekend</td>\n",
       "      <td>106</td>\n",
       "      <td>33</td>\n",
       "      <td>139</td>\n",
       "      <td>0.237410</td>\n",
       "    </tr>\n",
       "    <tr>\n",
       "      <th>Jul</th>\n",
       "      <td>Weekdays</td>\n",
       "      <td>358</td>\n",
       "      <td>80</td>\n",
       "      <td>438</td>\n",
       "      <td>0.182648</td>\n",
       "    </tr>\n",
       "    <tr>\n",
       "      <th>Aug</th>\n",
       "      <td>Weekend</td>\n",
       "      <td>106</td>\n",
       "      <td>24</td>\n",
       "      <td>130</td>\n",
       "      <td>0.184615</td>\n",
       "    </tr>\n",
       "    <tr>\n",
       "      <th>Aug</th>\n",
       "      <td>Weekdays</td>\n",
       "      <td>354</td>\n",
       "      <td>93</td>\n",
       "      <td>447</td>\n",
       "      <td>0.208054</td>\n",
       "    </tr>\n",
       "    <tr>\n",
       "      <th>Sep</th>\n",
       "      <td>Weekdays</td>\n",
       "      <td>377</td>\n",
       "      <td>94</td>\n",
       "      <td>471</td>\n",
       "      <td>0.199575</td>\n",
       "    </tr>\n",
       "    <tr>\n",
       "      <th>Sep</th>\n",
       "      <td>Weekend</td>\n",
       "      <td>86</td>\n",
       "      <td>35</td>\n",
       "      <td>121</td>\n",
       "      <td>0.289256</td>\n",
       "    </tr>\n",
       "    <tr>\n",
       "      <th>Oct</th>\n",
       "      <td>Weekdays</td>\n",
       "      <td>394</td>\n",
       "      <td>120</td>\n",
       "      <td>514</td>\n",
       "      <td>0.233463</td>\n",
       "    </tr>\n",
       "    <tr>\n",
       "      <th>Oct</th>\n",
       "      <td>Weekend</td>\n",
       "      <td>135</td>\n",
       "      <td>44</td>\n",
       "      <td>179</td>\n",
       "      <td>0.245810</td>\n",
       "    </tr>\n",
       "    <tr>\n",
       "      <th>Nov</th>\n",
       "      <td>Weekdays</td>\n",
       "      <td>1740</td>\n",
       "      <td>587</td>\n",
       "      <td>2327</td>\n",
       "      <td>0.252256</td>\n",
       "    </tr>\n",
       "    <tr>\n",
       "      <th>Nov</th>\n",
       "      <td>Weekend</td>\n",
       "      <td>597</td>\n",
       "      <td>218</td>\n",
       "      <td>815</td>\n",
       "      <td>0.267485</td>\n",
       "    </tr>\n",
       "    <tr>\n",
       "      <th>Dec</th>\n",
       "      <td>Weekend</td>\n",
       "      <td>343</td>\n",
       "      <td>53</td>\n",
       "      <td>396</td>\n",
       "      <td>0.133838</td>\n",
       "    </tr>\n",
       "    <tr>\n",
       "      <th>Dec</th>\n",
       "      <td>Weekdays</td>\n",
       "      <td>1263</td>\n",
       "      <td>212</td>\n",
       "      <td>1475</td>\n",
       "      <td>0.143729</td>\n",
       "    </tr>\n",
       "  </tbody>\n",
       "</table>\n",
       "</div>"
      ],
      "text/plain": [
       "        Weekend  Not_converted  Converted  Target  Converted_ratio\n",
       "Month                                                             \n",
       "Jan    Weekdays             74         40     114         0.350877\n",
       "Jan     Weekend             16         15      31         0.483871\n",
       "Feb    Weekdays            232         38     270         0.140741\n",
       "Feb     Weekend             48         10      58         0.172414\n",
       "Mar     Weekend            436         70     506         0.138340\n",
       "Mar    Weekdays           1374        172    1546         0.111255\n",
       "Apr    Weekdays             87         34     121         0.280992\n",
       "Apr     Weekend             17          7      24         0.291667\n",
       "May     Weekend            630        109     739         0.147497\n",
       "May    Weekdays           2468        302    2770         0.109025\n",
       "Jun     Weekend             64         15      79         0.189873\n",
       "Jun    Weekdays            295         59     354         0.166667\n",
       "Jul     Weekend            106         33     139         0.237410\n",
       "Jul    Weekdays            358         80     438         0.182648\n",
       "Aug     Weekend            106         24     130         0.184615\n",
       "Aug    Weekdays            354         93     447         0.208054\n",
       "Sep    Weekdays            377         94     471         0.199575\n",
       "Sep     Weekend             86         35     121         0.289256\n",
       "Oct    Weekdays            394        120     514         0.233463\n",
       "Oct     Weekend            135         44     179         0.245810\n",
       "Nov    Weekdays           1740        587    2327         0.252256\n",
       "Nov     Weekend            597        218     815         0.267485\n",
       "Dec     Weekend            343         53     396         0.133838\n",
       "Dec    Weekdays           1263        212    1475         0.143729"
      ]
     },
     "execution_count": 14,
     "metadata": {},
     "output_type": "execute_result"
    }
   ],
   "source": [
    "Sales_not_converted_month=df[df['Conversion_Flag']==False].groupby(['Month','Weekend'])['Weekend'].count()\n",
    "Sales_converted_month=df[df['Conversion_Flag']==True].groupby(['Month','Weekend'])['Weekend'].count()\n",
    "\n",
    "Sales_converted_month_df=pd.DataFrame({'Not_converted':Sales_not_converted_month,\"Converted\":Sales_converted_month})\n",
    "\n",
    "Sales_converted_month_df['Target']=Sales_converted_month_df['Not_converted']+Sales_converted_month_df['Converted']\n",
    "Sales_converted_month_df['Converted_ratio']=Sales_converted_month_df['Converted']/Sales_converted_month_df['Target']\n",
    "\n",
    "Sales_converted_month_df=Sales_converted_month_df.reset_index()\n",
    "# Sales_converted_month_df=Sales_converted_month_df.set_index('Month')\n",
    "Sales_converted_month_df\n",
    "\n",
    "Sales_converted_month_df[\"Month\"] = pd.to_datetime(Sales_converted_month_df.Month, format='%b', errors='coerce').dt.month\n",
    "Sales_converted_month_df = Sales_converted_month_df.sort_values(by=\"Month\")\n",
    "\n",
    "Sales_converted_month_df['Month'] =Sales_converted_month_df['Month'].map({1: 'Jan', 2: 'Feb', 3: 'Mar', 4: 'Apr', 5: 'May',\n",
    "            6: 'Jun', 7: 'Jul', 8: 'Aug', 9: 'Sep', 10: 'Oct', 11: 'Nov', 12: 'Dec'})\n",
    "Sales_converted_month_df.set_index('Month')"
   ]
  },
  {
   "cell_type": "markdown",
   "metadata": {},
   "source": [
    "* For January,September,July conversion rate is higher in *Weekends.*\n",
    "* For April,November,October,August no much difference is seen between weekend and *Weekdays.*"
   ]
  },
  {
   "cell_type": "code",
   "execution_count": 15,
   "metadata": {},
   "outputs": [
    {
     "data": {
      "text/html": [
       "<div>\n",
       "<style scoped>\n",
       "    .dataframe tbody tr th:only-of-type {\n",
       "        vertical-align: middle;\n",
       "    }\n",
       "\n",
       "    .dataframe tbody tr th {\n",
       "        vertical-align: top;\n",
       "    }\n",
       "\n",
       "    .dataframe thead th {\n",
       "        text-align: right;\n",
       "    }\n",
       "</style>\n",
       "<table border=\"1\" class=\"dataframe\">\n",
       "  <thead>\n",
       "    <tr style=\"text-align: right;\">\n",
       "      <th></th>\n",
       "      <th>Not_converted</th>\n",
       "      <th>Converted</th>\n",
       "      <th>Target</th>\n",
       "      <th>Converted_ratio</th>\n",
       "    </tr>\n",
       "    <tr>\n",
       "      <th>Customer Type</th>\n",
       "      <th></th>\n",
       "      <th></th>\n",
       "      <th></th>\n",
       "      <th></th>\n",
       "    </tr>\n",
       "  </thead>\n",
       "  <tbody>\n",
       "    <tr>\n",
       "      <th>Existing</th>\n",
       "      <td>10121</td>\n",
       "      <td>1909</td>\n",
       "      <td>12030</td>\n",
       "      <td>0.158687</td>\n",
       "    </tr>\n",
       "    <tr>\n",
       "      <th>NewlyAcquired</th>\n",
       "      <td>1406</td>\n",
       "      <td>539</td>\n",
       "      <td>1945</td>\n",
       "      <td>0.277121</td>\n",
       "    </tr>\n",
       "    <tr>\n",
       "      <th>Undetermined</th>\n",
       "      <td>73</td>\n",
       "      <td>16</td>\n",
       "      <td>89</td>\n",
       "      <td>0.179775</td>\n",
       "    </tr>\n",
       "  </tbody>\n",
       "</table>\n",
       "</div>"
      ],
      "text/plain": [
       "               Not_converted  Converted  Target  Converted_ratio\n",
       "Customer Type                                                   \n",
       "Existing               10121       1909   12030         0.158687\n",
       "NewlyAcquired           1406        539    1945         0.277121\n",
       "Undetermined              73         16      89         0.179775"
      ]
     },
     "execution_count": 15,
     "metadata": {},
     "output_type": "execute_result"
    }
   ],
   "source": [
    "Sales_converted_not_Customer_Type_df=df[df['Conversion_Flag']==False].groupby(['Customer Type'])['Weekend'].count()\n",
    "Sales_converted_Customer_Type_df=df[df['Conversion_Flag']==True].groupby(['Customer Type'])['Weekend'].count()\n",
    "\n",
    "Sales_converted_Customer_Type_df=pd.DataFrame({'Not_converted':Sales_converted_not_Customer_Type_df,\"Converted\":Sales_converted_Customer_Type_df})\n",
    "Sales_converted_Customer_Type_df['Target']=Sales_converted_Customer_Type_df['Not_converted']+Sales_converted_Customer_Type_df['Converted']\n",
    "Sales_converted_Customer_Type_df['Converted_ratio']=Sales_converted_Customer_Type_df['Converted']/Sales_converted_Customer_Type_df['Target']\n",
    "\n",
    "Sales_converted_Customer_Type_df"
   ]
  },
  {
   "cell_type": "markdown",
   "metadata": {},
   "source": [
    "* New cutomser using the coupon wisely based on the above data.\n",
    "* Coupon Stragey of targeting the customer customer doesn't seems like working well"
   ]
  },
  {
   "cell_type": "code",
   "execution_count": 16,
   "metadata": {},
   "outputs": [
    {
     "data": {
      "text/html": [
       "<div>\n",
       "<style scoped>\n",
       "    .dataframe tbody tr th:only-of-type {\n",
       "        vertical-align: middle;\n",
       "    }\n",
       "\n",
       "    .dataframe tbody tr th {\n",
       "        vertical-align: top;\n",
       "    }\n",
       "\n",
       "    .dataframe thead th {\n",
       "        text-align: right;\n",
       "    }\n",
       "</style>\n",
       "<table border=\"1\" class=\"dataframe\">\n",
       "  <thead>\n",
       "    <tr style=\"text-align: right;\">\n",
       "      <th></th>\n",
       "      <th></th>\n",
       "      <th>Not_converted</th>\n",
       "      <th>Converted</th>\n",
       "      <th>Target</th>\n",
       "      <th>Converted_ratio</th>\n",
       "    </tr>\n",
       "    <tr>\n",
       "      <th>Month</th>\n",
       "      <th>Customer Type</th>\n",
       "      <th></th>\n",
       "      <th></th>\n",
       "      <th></th>\n",
       "      <th></th>\n",
       "    </tr>\n",
       "  </thead>\n",
       "  <tbody>\n",
       "    <tr>\n",
       "      <th rowspan=\"2\" valign=\"top\">Apr</th>\n",
       "      <th>Existing</th>\n",
       "      <td>94</td>\n",
       "      <td>34.0</td>\n",
       "      <td>128.0</td>\n",
       "      <td>0.265625</td>\n",
       "    </tr>\n",
       "    <tr>\n",
       "      <th>NewlyAcquired</th>\n",
       "      <td>10</td>\n",
       "      <td>7.0</td>\n",
       "      <td>17.0</td>\n",
       "      <td>0.411765</td>\n",
       "    </tr>\n",
       "    <tr>\n",
       "      <th rowspan=\"2\" valign=\"top\">Aug</th>\n",
       "      <th>Existing</th>\n",
       "      <td>398</td>\n",
       "      <td>87.0</td>\n",
       "      <td>485.0</td>\n",
       "      <td>0.179381</td>\n",
       "    </tr>\n",
       "    <tr>\n",
       "      <th>NewlyAcquired</th>\n",
       "      <td>62</td>\n",
       "      <td>30.0</td>\n",
       "      <td>92.0</td>\n",
       "      <td>0.326087</td>\n",
       "    </tr>\n",
       "    <tr>\n",
       "      <th rowspan=\"3\" valign=\"top\">Dec</th>\n",
       "      <th>Existing</th>\n",
       "      <td>1289</td>\n",
       "      <td>164.0</td>\n",
       "      <td>1453.0</td>\n",
       "      <td>0.112870</td>\n",
       "    </tr>\n",
       "    <tr>\n",
       "      <th>NewlyAcquired</th>\n",
       "      <td>268</td>\n",
       "      <td>88.0</td>\n",
       "      <td>356.0</td>\n",
       "      <td>0.247191</td>\n",
       "    </tr>\n",
       "    <tr>\n",
       "      <th>Undetermined</th>\n",
       "      <td>49</td>\n",
       "      <td>13.0</td>\n",
       "      <td>62.0</td>\n",
       "      <td>0.209677</td>\n",
       "    </tr>\n",
       "    <tr>\n",
       "      <th rowspan=\"3\" valign=\"top\">Feb</th>\n",
       "      <th>Existing</th>\n",
       "      <td>265</td>\n",
       "      <td>45.0</td>\n",
       "      <td>310.0</td>\n",
       "      <td>0.145161</td>\n",
       "    </tr>\n",
       "    <tr>\n",
       "      <th>NewlyAcquired</th>\n",
       "      <td>14</td>\n",
       "      <td>3.0</td>\n",
       "      <td>17.0</td>\n",
       "      <td>0.176471</td>\n",
       "    </tr>\n",
       "    <tr>\n",
       "      <th>Undetermined</th>\n",
       "      <td>1</td>\n",
       "      <td>0.0</td>\n",
       "      <td>1.0</td>\n",
       "      <td>0.000000</td>\n",
       "    </tr>\n",
       "    <tr>\n",
       "      <th rowspan=\"2\" valign=\"top\">Jan</th>\n",
       "      <th>Existing</th>\n",
       "      <td>77</td>\n",
       "      <td>41.0</td>\n",
       "      <td>118.0</td>\n",
       "      <td>0.347458</td>\n",
       "    </tr>\n",
       "    <tr>\n",
       "      <th>NewlyAcquired</th>\n",
       "      <td>13</td>\n",
       "      <td>14.0</td>\n",
       "      <td>27.0</td>\n",
       "      <td>0.518519</td>\n",
       "    </tr>\n",
       "    <tr>\n",
       "      <th rowspan=\"2\" valign=\"top\">Jul</th>\n",
       "      <th>Existing</th>\n",
       "      <td>414</td>\n",
       "      <td>96.0</td>\n",
       "      <td>510.0</td>\n",
       "      <td>0.188235</td>\n",
       "    </tr>\n",
       "    <tr>\n",
       "      <th>NewlyAcquired</th>\n",
       "      <td>50</td>\n",
       "      <td>17.0</td>\n",
       "      <td>67.0</td>\n",
       "      <td>0.253731</td>\n",
       "    </tr>\n",
       "    <tr>\n",
       "      <th rowspan=\"3\" valign=\"top\">Jun</th>\n",
       "      <th>Existing</th>\n",
       "      <td>323</td>\n",
       "      <td>60.0</td>\n",
       "      <td>383.0</td>\n",
       "      <td>0.156658</td>\n",
       "    </tr>\n",
       "    <tr>\n",
       "      <th>NewlyAcquired</th>\n",
       "      <td>34</td>\n",
       "      <td>14.0</td>\n",
       "      <td>48.0</td>\n",
       "      <td>0.291667</td>\n",
       "    </tr>\n",
       "    <tr>\n",
       "      <th>Undetermined</th>\n",
       "      <td>2</td>\n",
       "      <td>0.0</td>\n",
       "      <td>2.0</td>\n",
       "      <td>0.000000</td>\n",
       "    </tr>\n",
       "    <tr>\n",
       "      <th rowspan=\"3\" valign=\"top\">Mar</th>\n",
       "      <th>Existing</th>\n",
       "      <td>1604</td>\n",
       "      <td>191.0</td>\n",
       "      <td>1795.0</td>\n",
       "      <td>0.106407</td>\n",
       "    </tr>\n",
       "    <tr>\n",
       "      <th>NewlyAcquired</th>\n",
       "      <td>205</td>\n",
       "      <td>51.0</td>\n",
       "      <td>256.0</td>\n",
       "      <td>0.199219</td>\n",
       "    </tr>\n",
       "    <tr>\n",
       "      <th>Undetermined</th>\n",
       "      <td>1</td>\n",
       "      <td>0.0</td>\n",
       "      <td>1.0</td>\n",
       "      <td>0.000000</td>\n",
       "    </tr>\n",
       "    <tr>\n",
       "      <th rowspan=\"2\" valign=\"top\">May</th>\n",
       "      <th>Existing</th>\n",
       "      <td>2852</td>\n",
       "      <td>313.0</td>\n",
       "      <td>3165.0</td>\n",
       "      <td>0.098894</td>\n",
       "    </tr>\n",
       "    <tr>\n",
       "      <th>NewlyAcquired</th>\n",
       "      <td>246</td>\n",
       "      <td>98.0</td>\n",
       "      <td>344.0</td>\n",
       "      <td>0.284884</td>\n",
       "    </tr>\n",
       "    <tr>\n",
       "      <th rowspan=\"3\" valign=\"top\">Nov</th>\n",
       "      <th>Existing</th>\n",
       "      <td>2011</td>\n",
       "      <td>659.0</td>\n",
       "      <td>2670.0</td>\n",
       "      <td>0.246816</td>\n",
       "    </tr>\n",
       "    <tr>\n",
       "      <th>NewlyAcquired</th>\n",
       "      <td>307</td>\n",
       "      <td>143.0</td>\n",
       "      <td>450.0</td>\n",
       "      <td>0.317778</td>\n",
       "    </tr>\n",
       "    <tr>\n",
       "      <th>Undetermined</th>\n",
       "      <td>19</td>\n",
       "      <td>3.0</td>\n",
       "      <td>22.0</td>\n",
       "      <td>0.136364</td>\n",
       "    </tr>\n",
       "    <tr>\n",
       "      <th rowspan=\"2\" valign=\"top\">Oct</th>\n",
       "      <th>Existing</th>\n",
       "      <td>421</td>\n",
       "      <td>126.0</td>\n",
       "      <td>547.0</td>\n",
       "      <td>0.230347</td>\n",
       "    </tr>\n",
       "    <tr>\n",
       "      <th>NewlyAcquired</th>\n",
       "      <td>108</td>\n",
       "      <td>38.0</td>\n",
       "      <td>146.0</td>\n",
       "      <td>0.260274</td>\n",
       "    </tr>\n",
       "    <tr>\n",
       "      <th rowspan=\"3\" valign=\"top\">Sep</th>\n",
       "      <th>Existing</th>\n",
       "      <td>373</td>\n",
       "      <td>93.0</td>\n",
       "      <td>466.0</td>\n",
       "      <td>0.199571</td>\n",
       "    </tr>\n",
       "    <tr>\n",
       "      <th>NewlyAcquired</th>\n",
       "      <td>89</td>\n",
       "      <td>36.0</td>\n",
       "      <td>125.0</td>\n",
       "      <td>0.288000</td>\n",
       "    </tr>\n",
       "    <tr>\n",
       "      <th>Undetermined</th>\n",
       "      <td>1</td>\n",
       "      <td>0.0</td>\n",
       "      <td>1.0</td>\n",
       "      <td>0.000000</td>\n",
       "    </tr>\n",
       "  </tbody>\n",
       "</table>\n",
       "</div>"
      ],
      "text/plain": [
       "                     Not_converted  Converted  Target  Converted_ratio\n",
       "Month Customer Type                                                   \n",
       "Apr   Existing                  94       34.0   128.0         0.265625\n",
       "      NewlyAcquired             10        7.0    17.0         0.411765\n",
       "Aug   Existing                 398       87.0   485.0         0.179381\n",
       "      NewlyAcquired             62       30.0    92.0         0.326087\n",
       "Dec   Existing                1289      164.0  1453.0         0.112870\n",
       "      NewlyAcquired            268       88.0   356.0         0.247191\n",
       "      Undetermined              49       13.0    62.0         0.209677\n",
       "Feb   Existing                 265       45.0   310.0         0.145161\n",
       "      NewlyAcquired             14        3.0    17.0         0.176471\n",
       "      Undetermined               1        0.0     1.0         0.000000\n",
       "Jan   Existing                  77       41.0   118.0         0.347458\n",
       "      NewlyAcquired             13       14.0    27.0         0.518519\n",
       "Jul   Existing                 414       96.0   510.0         0.188235\n",
       "      NewlyAcquired             50       17.0    67.0         0.253731\n",
       "Jun   Existing                 323       60.0   383.0         0.156658\n",
       "      NewlyAcquired             34       14.0    48.0         0.291667\n",
       "      Undetermined               2        0.0     2.0         0.000000\n",
       "Mar   Existing                1604      191.0  1795.0         0.106407\n",
       "      NewlyAcquired            205       51.0   256.0         0.199219\n",
       "      Undetermined               1        0.0     1.0         0.000000\n",
       "May   Existing                2852      313.0  3165.0         0.098894\n",
       "      NewlyAcquired            246       98.0   344.0         0.284884\n",
       "Nov   Existing                2011      659.0  2670.0         0.246816\n",
       "      NewlyAcquired            307      143.0   450.0         0.317778\n",
       "      Undetermined              19        3.0    22.0         0.136364\n",
       "Oct   Existing                 421      126.0   547.0         0.230347\n",
       "      NewlyAcquired            108       38.0   146.0         0.260274\n",
       "Sep   Existing                 373       93.0   466.0         0.199571\n",
       "      NewlyAcquired             89       36.0   125.0         0.288000\n",
       "      Undetermined               1        0.0     1.0         0.000000"
      ]
     },
     "execution_count": 16,
     "metadata": {},
     "output_type": "execute_result"
    }
   ],
   "source": [
    "Sales_not_converted_mon_customer=df[df['Conversion_Flag']==False].groupby(['Month','Customer Type'])['Weekend'].count()\n",
    "Sales_converted_mon_customer=df[df['Conversion_Flag']==True].groupby(['Month','Customer Type'])['Weekend'].count()\n",
    "\n",
    "Sales_converted_mon_customer_df=pd.DataFrame({'Not_converted':Sales_not_converted_mon_customer,\"Converted\":Sales_converted_mon_customer})\n",
    "\n",
    "Sales_converted_mon_customer_df.fillna(0,inplace=True)\n",
    "Sales_converted_mon_customer_df['Target']=Sales_converted_mon_customer_df['Not_converted']+Sales_converted_mon_customer_df['Converted']\n",
    "Sales_converted_mon_customer_df['Converted_ratio']=Sales_converted_mon_customer_df['Converted']/Sales_converted_mon_customer_df['Target']\n",
    "Sales_converted_mon_customer_df\n"
   ]
  },
  {
   "cell_type": "markdown",
   "metadata": {},
   "source": [
    "### Data Preprocessing "
   ]
  },
  {
   "cell_type": "code",
   "execution_count": 17,
   "metadata": {},
   "outputs": [
    {
     "data": {
      "text/html": [
       "<div>\n",
       "<style scoped>\n",
       "    .dataframe tbody tr th:only-of-type {\n",
       "        vertical-align: middle;\n",
       "    }\n",
       "\n",
       "    .dataframe tbody tr th {\n",
       "        vertical-align: top;\n",
       "    }\n",
       "\n",
       "    .dataframe thead th {\n",
       "        text-align: right;\n",
       "    }\n",
       "</style>\n",
       "<table border=\"1\" class=\"dataframe\">\n",
       "  <thead>\n",
       "    <tr style=\"text-align: right;\">\n",
       "      <th></th>\n",
       "      <th>Month</th>\n",
       "      <th>Weekend</th>\n",
       "      <th>Ana_1</th>\n",
       "      <th>Ana_2</th>\n",
       "      <th>Ana_3</th>\n",
       "      <th>Ana_4</th>\n",
       "      <th>Ana_5</th>\n",
       "      <th>Ana_6</th>\n",
       "      <th>SellerPortal</th>\n",
       "      <th>SellerPortal_timespent</th>\n",
       "      <th>HelpPage</th>\n",
       "      <th>HelpPage_TimeSpent</th>\n",
       "      <th>ViewItem</th>\n",
       "      <th>ViewItem_TimeSpent</th>\n",
       "      <th>PageNotLoadingRate</th>\n",
       "      <th>PageExitRate</th>\n",
       "      <th>PageValues</th>\n",
       "      <th>Holiday_Spl_day</th>\n",
       "      <th>Customer Type</th>\n",
       "      <th>Conversion_Flag</th>\n",
       "    </tr>\n",
       "  </thead>\n",
       "  <tbody>\n",
       "    <tr>\n",
       "      <th>0</th>\n",
       "      <td>Jan</td>\n",
       "      <td>Weekdays</td>\n",
       "      <td>2</td>\n",
       "      <td>2</td>\n",
       "      <td>1</td>\n",
       "      <td>3</td>\n",
       "      <td>0.462560</td>\n",
       "      <td>783</td>\n",
       "      <td>0</td>\n",
       "      <td>0.0</td>\n",
       "      <td>0</td>\n",
       "      <td>0.0</td>\n",
       "      <td>19</td>\n",
       "      <td>154.216667</td>\n",
       "      <td>0.015789</td>\n",
       "      <td>0.024561</td>\n",
       "      <td>0.0</td>\n",
       "      <td>0.0</td>\n",
       "      <td>Existing</td>\n",
       "      <td>False</td>\n",
       "    </tr>\n",
       "    <tr>\n",
       "      <th>1</th>\n",
       "      <td>Jan</td>\n",
       "      <td>Weekdays</td>\n",
       "      <td>4</td>\n",
       "      <td>1</td>\n",
       "      <td>1</td>\n",
       "      <td>3</td>\n",
       "      <td>0.859220</td>\n",
       "      <td>748</td>\n",
       "      <td>0</td>\n",
       "      <td>0.0</td>\n",
       "      <td>0</td>\n",
       "      <td>0.0</td>\n",
       "      <td>4</td>\n",
       "      <td>88.000000</td>\n",
       "      <td>0.000000</td>\n",
       "      <td>0.050000</td>\n",
       "      <td>0.0</td>\n",
       "      <td>0.0</td>\n",
       "      <td>Existing</td>\n",
       "      <td>False</td>\n",
       "    </tr>\n",
       "    <tr>\n",
       "      <th>2</th>\n",
       "      <td>Jan</td>\n",
       "      <td>Weekend</td>\n",
       "      <td>4</td>\n",
       "      <td>1</td>\n",
       "      <td>1</td>\n",
       "      <td>5</td>\n",
       "      <td>0.032907</td>\n",
       "      <td>835</td>\n",
       "      <td>0</td>\n",
       "      <td>0.0</td>\n",
       "      <td>0</td>\n",
       "      <td>0.0</td>\n",
       "      <td>7</td>\n",
       "      <td>208.000000</td>\n",
       "      <td>0.000000</td>\n",
       "      <td>0.028571</td>\n",
       "      <td>0.0</td>\n",
       "      <td>0.0</td>\n",
       "      <td>Existing</td>\n",
       "      <td>False</td>\n",
       "    </tr>\n",
       "    <tr>\n",
       "      <th>3</th>\n",
       "      <td>Jan</td>\n",
       "      <td>Weekdays</td>\n",
       "      <td>3</td>\n",
       "      <td>2</td>\n",
       "      <td>1</td>\n",
       "      <td>3</td>\n",
       "      <td>0.290953</td>\n",
       "      <td>649</td>\n",
       "      <td>0</td>\n",
       "      <td>0.0</td>\n",
       "      <td>0</td>\n",
       "      <td>0.0</td>\n",
       "      <td>21</td>\n",
       "      <td>1146.333333</td>\n",
       "      <td>0.000000</td>\n",
       "      <td>0.012963</td>\n",
       "      <td>0.0</td>\n",
       "      <td>0.8</td>\n",
       "      <td>Existing</td>\n",
       "      <td>False</td>\n",
       "    </tr>\n",
       "    <tr>\n",
       "      <th>4</th>\n",
       "      <td>Jan</td>\n",
       "      <td>Weekdays</td>\n",
       "      <td>2</td>\n",
       "      <td>2</td>\n",
       "      <td>2</td>\n",
       "      <td>3</td>\n",
       "      <td>0.024576</td>\n",
       "      <td>653</td>\n",
       "      <td>0</td>\n",
       "      <td>0.0</td>\n",
       "      <td>0</td>\n",
       "      <td>0.0</td>\n",
       "      <td>1</td>\n",
       "      <td>0.000000</td>\n",
       "      <td>0.200000</td>\n",
       "      <td>0.200000</td>\n",
       "      <td>0.0</td>\n",
       "      <td>0.0</td>\n",
       "      <td>Existing</td>\n",
       "      <td>False</td>\n",
       "    </tr>\n",
       "  </tbody>\n",
       "</table>\n",
       "</div>"
      ],
      "text/plain": [
       "  Month   Weekend  Ana_1  Ana_2  Ana_3  Ana_4     Ana_5  Ana_6  SellerPortal  \\\n",
       "0   Jan  Weekdays      2      2      1      3  0.462560    783             0   \n",
       "1   Jan  Weekdays      4      1      1      3  0.859220    748             0   \n",
       "2   Jan   Weekend      4      1      1      5  0.032907    835             0   \n",
       "3   Jan  Weekdays      3      2      1      3  0.290953    649             0   \n",
       "4   Jan  Weekdays      2      2      2      3  0.024576    653             0   \n",
       "\n",
       "   SellerPortal_timespent  HelpPage  HelpPage_TimeSpent  ViewItem  \\\n",
       "0                     0.0         0                 0.0        19   \n",
       "1                     0.0         0                 0.0         4   \n",
       "2                     0.0         0                 0.0         7   \n",
       "3                     0.0         0                 0.0        21   \n",
       "4                     0.0         0                 0.0         1   \n",
       "\n",
       "   ViewItem_TimeSpent  PageNotLoadingRate  PageExitRate  PageValues  \\\n",
       "0          154.216667            0.015789      0.024561         0.0   \n",
       "1           88.000000            0.000000      0.050000         0.0   \n",
       "2          208.000000            0.000000      0.028571         0.0   \n",
       "3         1146.333333            0.000000      0.012963         0.0   \n",
       "4            0.000000            0.200000      0.200000         0.0   \n",
       "\n",
       "   Holiday_Spl_day Customer Type  Conversion_Flag  \n",
       "0              0.0      Existing            False  \n",
       "1              0.0      Existing            False  \n",
       "2              0.0      Existing            False  \n",
       "3              0.8      Existing            False  \n",
       "4              0.0      Existing            False  "
      ]
     },
     "execution_count": 17,
     "metadata": {},
     "output_type": "execute_result"
    }
   ],
   "source": [
    "df.head()"
   ]
  },
  {
   "cell_type": "markdown",
   "metadata": {},
   "source": [
    "### Handling Categorical Variable"
   ]
  },
  {
   "cell_type": "markdown",
   "metadata": {},
   "source": [
    "* Since Month have order involved treating Month feature has ordinal feature"
   ]
  },
  {
   "cell_type": "code",
   "execution_count": 18,
   "metadata": {},
   "outputs": [],
   "source": [
    "#Encoding the month column\n",
    "df['Month']=df['Month'].map({'Jan':1, 'Feb':2, 'Mar':3,'Apr':4, 'May':5,\n",
    "            'Jun' :6, 'Jul':7, 'Aug':8, 'Sep' :9, 'Oct' :10, 'Nov' :11, 'Dec':12})"
   ]
  },
  {
   "cell_type": "code",
   "execution_count": 19,
   "metadata": {},
   "outputs": [
    {
     "data": {
      "text/plain": [
       "array([2, 4, 3, 1, 7, 8, 6, 5], dtype=int64)"
      ]
     },
     "execution_count": 19,
     "metadata": {},
     "output_type": "execute_result"
    }
   ],
   "source": [
    "df['Ana_1'].unique()"
   ]
  },
  {
   "cell_type": "code",
   "execution_count": 20,
   "metadata": {},
   "outputs": [
    {
     "data": {
      "text/plain": [
       "array([ 2,  1,  6,  7,  5, 10,  4,  3,  8,  9, 13, 12, 11], dtype=int64)"
      ]
     },
     "execution_count": 20,
     "metadata": {},
     "output_type": "execute_result"
    }
   ],
   "source": [
    "df['Ana_2'].unique()"
   ]
  },
  {
   "cell_type": "code",
   "execution_count": 21,
   "metadata": {},
   "outputs": [
    {
     "data": {
      "text/plain": [
       "array([1, 2, 9, 3, 6, 4, 7, 8, 5], dtype=int64)"
      ]
     },
     "execution_count": 21,
     "metadata": {},
     "output_type": "execute_result"
    }
   ],
   "source": [
    "df['Ana_3'].unique()"
   ]
  },
  {
   "cell_type": "code",
   "execution_count": 22,
   "metadata": {},
   "outputs": [
    {
     "data": {
      "text/plain": [
       "array([ 3,  5,  7,  2,  1,  4,  6, 10,  8, 13, 11,  9, 12, 14, 15, 18, 19,\n",
       "       16, 17, 20], dtype=int64)"
      ]
     },
     "execution_count": 22,
     "metadata": {},
     "output_type": "execute_result"
    }
   ],
   "source": [
    "df['Ana_4'].unique()"
   ]
  },
  {
   "cell_type": "markdown",
   "metadata": {},
   "source": [
    "Due to lack of information treating Ana_1,Ana_2,Ana_3,Ana_4 has ordinal as given"
   ]
  },
  {
   "cell_type": "code",
   "execution_count": 23,
   "metadata": {},
   "outputs": [
    {
     "data": {
      "text/plain": [
       "array(['Weekdays', 'Weekend'], dtype=object)"
      ]
     },
     "execution_count": 23,
     "metadata": {},
     "output_type": "execute_result"
    }
   ],
   "source": [
    "df['Weekend'].unique()"
   ]
  },
  {
   "cell_type": "code",
   "execution_count": 24,
   "metadata": {},
   "outputs": [],
   "source": [
    "df['Weekend_ohe']=df['Weekend'].map({'Weekend':1,'Weekdays':0})"
   ]
  },
  {
   "cell_type": "code",
   "execution_count": 25,
   "metadata": {},
   "outputs": [
    {
     "data": {
      "text/html": [
       "<div>\n",
       "<style scoped>\n",
       "    .dataframe tbody tr th:only-of-type {\n",
       "        vertical-align: middle;\n",
       "    }\n",
       "\n",
       "    .dataframe tbody tr th {\n",
       "        vertical-align: top;\n",
       "    }\n",
       "\n",
       "    .dataframe thead th {\n",
       "        text-align: right;\n",
       "    }\n",
       "</style>\n",
       "<table border=\"1\" class=\"dataframe\">\n",
       "  <thead>\n",
       "    <tr style=\"text-align: right;\">\n",
       "      <th></th>\n",
       "      <th>Month</th>\n",
       "      <th>Weekend</th>\n",
       "      <th>Ana_1</th>\n",
       "      <th>Ana_2</th>\n",
       "      <th>Ana_3</th>\n",
       "      <th>Ana_4</th>\n",
       "      <th>Ana_5</th>\n",
       "      <th>Ana_6</th>\n",
       "      <th>SellerPortal</th>\n",
       "      <th>SellerPortal_timespent</th>\n",
       "      <th>...</th>\n",
       "      <th>HelpPage_TimeSpent</th>\n",
       "      <th>ViewItem</th>\n",
       "      <th>ViewItem_TimeSpent</th>\n",
       "      <th>PageNotLoadingRate</th>\n",
       "      <th>PageExitRate</th>\n",
       "      <th>PageValues</th>\n",
       "      <th>Holiday_Spl_day</th>\n",
       "      <th>Customer Type</th>\n",
       "      <th>Conversion_Flag</th>\n",
       "      <th>Weekend_ohe</th>\n",
       "    </tr>\n",
       "  </thead>\n",
       "  <tbody>\n",
       "    <tr>\n",
       "      <th>0</th>\n",
       "      <td>1</td>\n",
       "      <td>Weekdays</td>\n",
       "      <td>2</td>\n",
       "      <td>2</td>\n",
       "      <td>1</td>\n",
       "      <td>3</td>\n",
       "      <td>0.462560</td>\n",
       "      <td>783</td>\n",
       "      <td>0</td>\n",
       "      <td>0.0</td>\n",
       "      <td>...</td>\n",
       "      <td>0.0</td>\n",
       "      <td>19</td>\n",
       "      <td>154.216667</td>\n",
       "      <td>0.015789</td>\n",
       "      <td>0.024561</td>\n",
       "      <td>0.0</td>\n",
       "      <td>0.0</td>\n",
       "      <td>Existing</td>\n",
       "      <td>False</td>\n",
       "      <td>0</td>\n",
       "    </tr>\n",
       "    <tr>\n",
       "      <th>1</th>\n",
       "      <td>1</td>\n",
       "      <td>Weekdays</td>\n",
       "      <td>4</td>\n",
       "      <td>1</td>\n",
       "      <td>1</td>\n",
       "      <td>3</td>\n",
       "      <td>0.859220</td>\n",
       "      <td>748</td>\n",
       "      <td>0</td>\n",
       "      <td>0.0</td>\n",
       "      <td>...</td>\n",
       "      <td>0.0</td>\n",
       "      <td>4</td>\n",
       "      <td>88.000000</td>\n",
       "      <td>0.000000</td>\n",
       "      <td>0.050000</td>\n",
       "      <td>0.0</td>\n",
       "      <td>0.0</td>\n",
       "      <td>Existing</td>\n",
       "      <td>False</td>\n",
       "      <td>0</td>\n",
       "    </tr>\n",
       "    <tr>\n",
       "      <th>2</th>\n",
       "      <td>1</td>\n",
       "      <td>Weekend</td>\n",
       "      <td>4</td>\n",
       "      <td>1</td>\n",
       "      <td>1</td>\n",
       "      <td>5</td>\n",
       "      <td>0.032907</td>\n",
       "      <td>835</td>\n",
       "      <td>0</td>\n",
       "      <td>0.0</td>\n",
       "      <td>...</td>\n",
       "      <td>0.0</td>\n",
       "      <td>7</td>\n",
       "      <td>208.000000</td>\n",
       "      <td>0.000000</td>\n",
       "      <td>0.028571</td>\n",
       "      <td>0.0</td>\n",
       "      <td>0.0</td>\n",
       "      <td>Existing</td>\n",
       "      <td>False</td>\n",
       "      <td>1</td>\n",
       "    </tr>\n",
       "    <tr>\n",
       "      <th>3</th>\n",
       "      <td>1</td>\n",
       "      <td>Weekdays</td>\n",
       "      <td>3</td>\n",
       "      <td>2</td>\n",
       "      <td>1</td>\n",
       "      <td>3</td>\n",
       "      <td>0.290953</td>\n",
       "      <td>649</td>\n",
       "      <td>0</td>\n",
       "      <td>0.0</td>\n",
       "      <td>...</td>\n",
       "      <td>0.0</td>\n",
       "      <td>21</td>\n",
       "      <td>1146.333333</td>\n",
       "      <td>0.000000</td>\n",
       "      <td>0.012963</td>\n",
       "      <td>0.0</td>\n",
       "      <td>0.8</td>\n",
       "      <td>Existing</td>\n",
       "      <td>False</td>\n",
       "      <td>0</td>\n",
       "    </tr>\n",
       "    <tr>\n",
       "      <th>4</th>\n",
       "      <td>1</td>\n",
       "      <td>Weekdays</td>\n",
       "      <td>2</td>\n",
       "      <td>2</td>\n",
       "      <td>2</td>\n",
       "      <td>3</td>\n",
       "      <td>0.024576</td>\n",
       "      <td>653</td>\n",
       "      <td>0</td>\n",
       "      <td>0.0</td>\n",
       "      <td>...</td>\n",
       "      <td>0.0</td>\n",
       "      <td>1</td>\n",
       "      <td>0.000000</td>\n",
       "      <td>0.200000</td>\n",
       "      <td>0.200000</td>\n",
       "      <td>0.0</td>\n",
       "      <td>0.0</td>\n",
       "      <td>Existing</td>\n",
       "      <td>False</td>\n",
       "      <td>0</td>\n",
       "    </tr>\n",
       "  </tbody>\n",
       "</table>\n",
       "<p>5 rows × 21 columns</p>\n",
       "</div>"
      ],
      "text/plain": [
       "   Month   Weekend  Ana_1  Ana_2  Ana_3  Ana_4     Ana_5  Ana_6  SellerPortal  \\\n",
       "0      1  Weekdays      2      2      1      3  0.462560    783             0   \n",
       "1      1  Weekdays      4      1      1      3  0.859220    748             0   \n",
       "2      1   Weekend      4      1      1      5  0.032907    835             0   \n",
       "3      1  Weekdays      3      2      1      3  0.290953    649             0   \n",
       "4      1  Weekdays      2      2      2      3  0.024576    653             0   \n",
       "\n",
       "   SellerPortal_timespent  ...  HelpPage_TimeSpent  ViewItem  \\\n",
       "0                     0.0  ...                 0.0        19   \n",
       "1                     0.0  ...                 0.0         4   \n",
       "2                     0.0  ...                 0.0         7   \n",
       "3                     0.0  ...                 0.0        21   \n",
       "4                     0.0  ...                 0.0         1   \n",
       "\n",
       "   ViewItem_TimeSpent  PageNotLoadingRate  PageExitRate  PageValues  \\\n",
       "0          154.216667            0.015789      0.024561         0.0   \n",
       "1           88.000000            0.000000      0.050000         0.0   \n",
       "2          208.000000            0.000000      0.028571         0.0   \n",
       "3         1146.333333            0.000000      0.012963         0.0   \n",
       "4            0.000000            0.200000      0.200000         0.0   \n",
       "\n",
       "   Holiday_Spl_day  Customer Type Conversion_Flag  Weekend_ohe  \n",
       "0              0.0       Existing           False            0  \n",
       "1              0.0       Existing           False            0  \n",
       "2              0.0       Existing           False            1  \n",
       "3              0.8       Existing           False            0  \n",
       "4              0.0       Existing           False            0  \n",
       "\n",
       "[5 rows x 21 columns]"
      ]
     },
     "execution_count": 25,
     "metadata": {},
     "output_type": "execute_result"
    }
   ],
   "source": [
    "df.head()"
   ]
  },
  {
   "cell_type": "code",
   "execution_count": 26,
   "metadata": {},
   "outputs": [
    {
     "data": {
      "text/plain": [
       "Index(['Month', 'Weekend', 'Ana_1', 'Ana_2', 'Ana_3', 'Ana_4', 'Ana_5',\n",
       "       'Ana_6', 'SellerPortal', 'SellerPortal_timespent', 'HelpPage',\n",
       "       'HelpPage_TimeSpent', 'ViewItem', 'ViewItem_TimeSpent',\n",
       "       'PageNotLoadingRate', 'PageExitRate', 'PageValues', 'Holiday_Spl_day',\n",
       "       'Customer Type', 'Conversion_Flag', 'Weekend_ohe'],\n",
       "      dtype='object')"
      ]
     },
     "execution_count": 26,
     "metadata": {},
     "output_type": "execute_result"
    }
   ],
   "source": [
    "df.columns"
   ]
  },
  {
   "cell_type": "code",
   "execution_count": 27,
   "metadata": {},
   "outputs": [
    {
     "data": {
      "text/html": [
       "<div>\n",
       "<style scoped>\n",
       "    .dataframe tbody tr th:only-of-type {\n",
       "        vertical-align: middle;\n",
       "    }\n",
       "\n",
       "    .dataframe tbody tr th {\n",
       "        vertical-align: top;\n",
       "    }\n",
       "\n",
       "    .dataframe thead th {\n",
       "        text-align: right;\n",
       "    }\n",
       "</style>\n",
       "<table border=\"1\" class=\"dataframe\">\n",
       "  <thead>\n",
       "    <tr style=\"text-align: right;\">\n",
       "      <th></th>\n",
       "      <th>Existing</th>\n",
       "      <th>NewlyAcquired</th>\n",
       "      <th>Undetermined</th>\n",
       "    </tr>\n",
       "  </thead>\n",
       "  <tbody>\n",
       "    <tr>\n",
       "      <th>0</th>\n",
       "      <td>1</td>\n",
       "      <td>0</td>\n",
       "      <td>0</td>\n",
       "    </tr>\n",
       "    <tr>\n",
       "      <th>1</th>\n",
       "      <td>1</td>\n",
       "      <td>0</td>\n",
       "      <td>0</td>\n",
       "    </tr>\n",
       "    <tr>\n",
       "      <th>2</th>\n",
       "      <td>1</td>\n",
       "      <td>0</td>\n",
       "      <td>0</td>\n",
       "    </tr>\n",
       "    <tr>\n",
       "      <th>3</th>\n",
       "      <td>1</td>\n",
       "      <td>0</td>\n",
       "      <td>0</td>\n",
       "    </tr>\n",
       "    <tr>\n",
       "      <th>4</th>\n",
       "      <td>1</td>\n",
       "      <td>0</td>\n",
       "      <td>0</td>\n",
       "    </tr>\n",
       "    <tr>\n",
       "      <th>...</th>\n",
       "      <td>...</td>\n",
       "      <td>...</td>\n",
       "      <td>...</td>\n",
       "    </tr>\n",
       "    <tr>\n",
       "      <th>14059</th>\n",
       "      <td>1</td>\n",
       "      <td>0</td>\n",
       "      <td>0</td>\n",
       "    </tr>\n",
       "    <tr>\n",
       "      <th>14060</th>\n",
       "      <td>1</td>\n",
       "      <td>0</td>\n",
       "      <td>0</td>\n",
       "    </tr>\n",
       "    <tr>\n",
       "      <th>14061</th>\n",
       "      <td>1</td>\n",
       "      <td>0</td>\n",
       "      <td>0</td>\n",
       "    </tr>\n",
       "    <tr>\n",
       "      <th>14062</th>\n",
       "      <td>1</td>\n",
       "      <td>0</td>\n",
       "      <td>0</td>\n",
       "    </tr>\n",
       "    <tr>\n",
       "      <th>14063</th>\n",
       "      <td>1</td>\n",
       "      <td>0</td>\n",
       "      <td>0</td>\n",
       "    </tr>\n",
       "  </tbody>\n",
       "</table>\n",
       "<p>14064 rows × 3 columns</p>\n",
       "</div>"
      ],
      "text/plain": [
       "       Existing  NewlyAcquired  Undetermined\n",
       "0             1              0             0\n",
       "1             1              0             0\n",
       "2             1              0             0\n",
       "3             1              0             0\n",
       "4             1              0             0\n",
       "...         ...            ...           ...\n",
       "14059         1              0             0\n",
       "14060         1              0             0\n",
       "14061         1              0             0\n",
       "14062         1              0             0\n",
       "14063         1              0             0\n",
       "\n",
       "[14064 rows x 3 columns]"
      ]
     },
     "execution_count": 27,
     "metadata": {},
     "output_type": "execute_result"
    }
   ],
   "source": [
    "dummy_Customer_Type=pd.get_dummies(df['Customer Type'],drop_first=False,)\n",
    "dummy_Customer_Type"
   ]
  },
  {
   "cell_type": "code",
   "execution_count": 28,
   "metadata": {},
   "outputs": [
    {
     "data": {
      "text/html": [
       "<div>\n",
       "<style scoped>\n",
       "    .dataframe tbody tr th:only-of-type {\n",
       "        vertical-align: middle;\n",
       "    }\n",
       "\n",
       "    .dataframe tbody tr th {\n",
       "        vertical-align: top;\n",
       "    }\n",
       "\n",
       "    .dataframe thead th {\n",
       "        text-align: right;\n",
       "    }\n",
       "</style>\n",
       "<table border=\"1\" class=\"dataframe\">\n",
       "  <thead>\n",
       "    <tr style=\"text-align: right;\">\n",
       "      <th></th>\n",
       "      <th>Month</th>\n",
       "      <th>Weekend</th>\n",
       "      <th>Ana_1</th>\n",
       "      <th>Ana_2</th>\n",
       "      <th>Ana_3</th>\n",
       "      <th>Ana_4</th>\n",
       "      <th>Ana_5</th>\n",
       "      <th>Ana_6</th>\n",
       "      <th>SellerPortal</th>\n",
       "      <th>SellerPortal_timespent</th>\n",
       "      <th>...</th>\n",
       "      <th>PageNotLoadingRate</th>\n",
       "      <th>PageExitRate</th>\n",
       "      <th>PageValues</th>\n",
       "      <th>Holiday_Spl_day</th>\n",
       "      <th>Customer Type</th>\n",
       "      <th>Conversion_Flag</th>\n",
       "      <th>Weekend_ohe</th>\n",
       "      <th>Existing</th>\n",
       "      <th>NewlyAcquired</th>\n",
       "      <th>Undetermined</th>\n",
       "    </tr>\n",
       "  </thead>\n",
       "  <tbody>\n",
       "    <tr>\n",
       "      <th>0</th>\n",
       "      <td>1</td>\n",
       "      <td>Weekdays</td>\n",
       "      <td>2</td>\n",
       "      <td>2</td>\n",
       "      <td>1</td>\n",
       "      <td>3</td>\n",
       "      <td>0.462560</td>\n",
       "      <td>783</td>\n",
       "      <td>0</td>\n",
       "      <td>0.0</td>\n",
       "      <td>...</td>\n",
       "      <td>0.015789</td>\n",
       "      <td>0.024561</td>\n",
       "      <td>0.0</td>\n",
       "      <td>0.0</td>\n",
       "      <td>Existing</td>\n",
       "      <td>False</td>\n",
       "      <td>0</td>\n",
       "      <td>1</td>\n",
       "      <td>0</td>\n",
       "      <td>0</td>\n",
       "    </tr>\n",
       "    <tr>\n",
       "      <th>1</th>\n",
       "      <td>1</td>\n",
       "      <td>Weekdays</td>\n",
       "      <td>4</td>\n",
       "      <td>1</td>\n",
       "      <td>1</td>\n",
       "      <td>3</td>\n",
       "      <td>0.859220</td>\n",
       "      <td>748</td>\n",
       "      <td>0</td>\n",
       "      <td>0.0</td>\n",
       "      <td>...</td>\n",
       "      <td>0.000000</td>\n",
       "      <td>0.050000</td>\n",
       "      <td>0.0</td>\n",
       "      <td>0.0</td>\n",
       "      <td>Existing</td>\n",
       "      <td>False</td>\n",
       "      <td>0</td>\n",
       "      <td>1</td>\n",
       "      <td>0</td>\n",
       "      <td>0</td>\n",
       "    </tr>\n",
       "    <tr>\n",
       "      <th>2</th>\n",
       "      <td>1</td>\n",
       "      <td>Weekend</td>\n",
       "      <td>4</td>\n",
       "      <td>1</td>\n",
       "      <td>1</td>\n",
       "      <td>5</td>\n",
       "      <td>0.032907</td>\n",
       "      <td>835</td>\n",
       "      <td>0</td>\n",
       "      <td>0.0</td>\n",
       "      <td>...</td>\n",
       "      <td>0.000000</td>\n",
       "      <td>0.028571</td>\n",
       "      <td>0.0</td>\n",
       "      <td>0.0</td>\n",
       "      <td>Existing</td>\n",
       "      <td>False</td>\n",
       "      <td>1</td>\n",
       "      <td>1</td>\n",
       "      <td>0</td>\n",
       "      <td>0</td>\n",
       "    </tr>\n",
       "    <tr>\n",
       "      <th>3</th>\n",
       "      <td>1</td>\n",
       "      <td>Weekdays</td>\n",
       "      <td>3</td>\n",
       "      <td>2</td>\n",
       "      <td>1</td>\n",
       "      <td>3</td>\n",
       "      <td>0.290953</td>\n",
       "      <td>649</td>\n",
       "      <td>0</td>\n",
       "      <td>0.0</td>\n",
       "      <td>...</td>\n",
       "      <td>0.000000</td>\n",
       "      <td>0.012963</td>\n",
       "      <td>0.0</td>\n",
       "      <td>0.8</td>\n",
       "      <td>Existing</td>\n",
       "      <td>False</td>\n",
       "      <td>0</td>\n",
       "      <td>1</td>\n",
       "      <td>0</td>\n",
       "      <td>0</td>\n",
       "    </tr>\n",
       "    <tr>\n",
       "      <th>4</th>\n",
       "      <td>1</td>\n",
       "      <td>Weekdays</td>\n",
       "      <td>2</td>\n",
       "      <td>2</td>\n",
       "      <td>2</td>\n",
       "      <td>3</td>\n",
       "      <td>0.024576</td>\n",
       "      <td>653</td>\n",
       "      <td>0</td>\n",
       "      <td>0.0</td>\n",
       "      <td>...</td>\n",
       "      <td>0.200000</td>\n",
       "      <td>0.200000</td>\n",
       "      <td>0.0</td>\n",
       "      <td>0.0</td>\n",
       "      <td>Existing</td>\n",
       "      <td>False</td>\n",
       "      <td>0</td>\n",
       "      <td>1</td>\n",
       "      <td>0</td>\n",
       "      <td>0</td>\n",
       "    </tr>\n",
       "  </tbody>\n",
       "</table>\n",
       "<p>5 rows × 24 columns</p>\n",
       "</div>"
      ],
      "text/plain": [
       "   Month   Weekend  Ana_1  Ana_2  Ana_3  Ana_4     Ana_5  Ana_6  SellerPortal  \\\n",
       "0      1  Weekdays      2      2      1      3  0.462560    783             0   \n",
       "1      1  Weekdays      4      1      1      3  0.859220    748             0   \n",
       "2      1   Weekend      4      1      1      5  0.032907    835             0   \n",
       "3      1  Weekdays      3      2      1      3  0.290953    649             0   \n",
       "4      1  Weekdays      2      2      2      3  0.024576    653             0   \n",
       "\n",
       "   SellerPortal_timespent  ...  PageNotLoadingRate  PageExitRate  PageValues  \\\n",
       "0                     0.0  ...            0.015789      0.024561         0.0   \n",
       "1                     0.0  ...            0.000000      0.050000         0.0   \n",
       "2                     0.0  ...            0.000000      0.028571         0.0   \n",
       "3                     0.0  ...            0.000000      0.012963         0.0   \n",
       "4                     0.0  ...            0.200000      0.200000         0.0   \n",
       "\n",
       "   Holiday_Spl_day  Customer Type  Conversion_Flag  Weekend_ohe  Existing  \\\n",
       "0              0.0       Existing            False            0         1   \n",
       "1              0.0       Existing            False            0         1   \n",
       "2              0.0       Existing            False            1         1   \n",
       "3              0.8       Existing            False            0         1   \n",
       "4              0.0       Existing            False            0         1   \n",
       "\n",
       "  NewlyAcquired  Undetermined  \n",
       "0             0             0  \n",
       "1             0             0  \n",
       "2             0             0  \n",
       "3             0             0  \n",
       "4             0             0  \n",
       "\n",
       "[5 rows x 24 columns]"
      ]
     },
     "execution_count": 28,
     "metadata": {},
     "output_type": "execute_result"
    }
   ],
   "source": [
    "#Applying One hot encoding on the feature \"Customer Type\"\n",
    "df=pd.concat([df,dummy_Customer_Type],axis=1)\n",
    "df.head()"
   ]
  },
  {
   "cell_type": "code",
   "execution_count": 29,
   "metadata": {},
   "outputs": [],
   "source": [
    "# for better view converting Conversion_Flag from boolean to binary\n",
    "df['Conversion_Flag']=df['Conversion_Flag'].map({True:1,False:0})"
   ]
  },
  {
   "cell_type": "code",
   "execution_count": 30,
   "metadata": {},
   "outputs": [
    {
     "data": {
      "text/html": [
       "<div>\n",
       "<style scoped>\n",
       "    .dataframe tbody tr th:only-of-type {\n",
       "        vertical-align: middle;\n",
       "    }\n",
       "\n",
       "    .dataframe tbody tr th {\n",
       "        vertical-align: top;\n",
       "    }\n",
       "\n",
       "    .dataframe thead th {\n",
       "        text-align: right;\n",
       "    }\n",
       "</style>\n",
       "<table border=\"1\" class=\"dataframe\">\n",
       "  <thead>\n",
       "    <tr style=\"text-align: right;\">\n",
       "      <th></th>\n",
       "      <th>Month</th>\n",
       "      <th>Weekend</th>\n",
       "      <th>Ana_1</th>\n",
       "      <th>Ana_2</th>\n",
       "      <th>Ana_3</th>\n",
       "      <th>Ana_4</th>\n",
       "      <th>Ana_5</th>\n",
       "      <th>Ana_6</th>\n",
       "      <th>SellerPortal</th>\n",
       "      <th>SellerPortal_timespent</th>\n",
       "      <th>...</th>\n",
       "      <th>PageNotLoadingRate</th>\n",
       "      <th>PageExitRate</th>\n",
       "      <th>PageValues</th>\n",
       "      <th>Holiday_Spl_day</th>\n",
       "      <th>Customer Type</th>\n",
       "      <th>Conversion_Flag</th>\n",
       "      <th>Weekend_ohe</th>\n",
       "      <th>Existing</th>\n",
       "      <th>NewlyAcquired</th>\n",
       "      <th>Undetermined</th>\n",
       "    </tr>\n",
       "  </thead>\n",
       "  <tbody>\n",
       "    <tr>\n",
       "      <th>0</th>\n",
       "      <td>1</td>\n",
       "      <td>Weekdays</td>\n",
       "      <td>2</td>\n",
       "      <td>2</td>\n",
       "      <td>1</td>\n",
       "      <td>3</td>\n",
       "      <td>0.462560</td>\n",
       "      <td>783</td>\n",
       "      <td>0</td>\n",
       "      <td>0.0</td>\n",
       "      <td>...</td>\n",
       "      <td>0.015789</td>\n",
       "      <td>0.024561</td>\n",
       "      <td>0.0</td>\n",
       "      <td>0.0</td>\n",
       "      <td>Existing</td>\n",
       "      <td>0</td>\n",
       "      <td>0</td>\n",
       "      <td>1</td>\n",
       "      <td>0</td>\n",
       "      <td>0</td>\n",
       "    </tr>\n",
       "    <tr>\n",
       "      <th>1</th>\n",
       "      <td>1</td>\n",
       "      <td>Weekdays</td>\n",
       "      <td>4</td>\n",
       "      <td>1</td>\n",
       "      <td>1</td>\n",
       "      <td>3</td>\n",
       "      <td>0.859220</td>\n",
       "      <td>748</td>\n",
       "      <td>0</td>\n",
       "      <td>0.0</td>\n",
       "      <td>...</td>\n",
       "      <td>0.000000</td>\n",
       "      <td>0.050000</td>\n",
       "      <td>0.0</td>\n",
       "      <td>0.0</td>\n",
       "      <td>Existing</td>\n",
       "      <td>0</td>\n",
       "      <td>0</td>\n",
       "      <td>1</td>\n",
       "      <td>0</td>\n",
       "      <td>0</td>\n",
       "    </tr>\n",
       "    <tr>\n",
       "      <th>2</th>\n",
       "      <td>1</td>\n",
       "      <td>Weekend</td>\n",
       "      <td>4</td>\n",
       "      <td>1</td>\n",
       "      <td>1</td>\n",
       "      <td>5</td>\n",
       "      <td>0.032907</td>\n",
       "      <td>835</td>\n",
       "      <td>0</td>\n",
       "      <td>0.0</td>\n",
       "      <td>...</td>\n",
       "      <td>0.000000</td>\n",
       "      <td>0.028571</td>\n",
       "      <td>0.0</td>\n",
       "      <td>0.0</td>\n",
       "      <td>Existing</td>\n",
       "      <td>0</td>\n",
       "      <td>1</td>\n",
       "      <td>1</td>\n",
       "      <td>0</td>\n",
       "      <td>0</td>\n",
       "    </tr>\n",
       "    <tr>\n",
       "      <th>3</th>\n",
       "      <td>1</td>\n",
       "      <td>Weekdays</td>\n",
       "      <td>3</td>\n",
       "      <td>2</td>\n",
       "      <td>1</td>\n",
       "      <td>3</td>\n",
       "      <td>0.290953</td>\n",
       "      <td>649</td>\n",
       "      <td>0</td>\n",
       "      <td>0.0</td>\n",
       "      <td>...</td>\n",
       "      <td>0.000000</td>\n",
       "      <td>0.012963</td>\n",
       "      <td>0.0</td>\n",
       "      <td>0.8</td>\n",
       "      <td>Existing</td>\n",
       "      <td>0</td>\n",
       "      <td>0</td>\n",
       "      <td>1</td>\n",
       "      <td>0</td>\n",
       "      <td>0</td>\n",
       "    </tr>\n",
       "    <tr>\n",
       "      <th>4</th>\n",
       "      <td>1</td>\n",
       "      <td>Weekdays</td>\n",
       "      <td>2</td>\n",
       "      <td>2</td>\n",
       "      <td>2</td>\n",
       "      <td>3</td>\n",
       "      <td>0.024576</td>\n",
       "      <td>653</td>\n",
       "      <td>0</td>\n",
       "      <td>0.0</td>\n",
       "      <td>...</td>\n",
       "      <td>0.200000</td>\n",
       "      <td>0.200000</td>\n",
       "      <td>0.0</td>\n",
       "      <td>0.0</td>\n",
       "      <td>Existing</td>\n",
       "      <td>0</td>\n",
       "      <td>0</td>\n",
       "      <td>1</td>\n",
       "      <td>0</td>\n",
       "      <td>0</td>\n",
       "    </tr>\n",
       "  </tbody>\n",
       "</table>\n",
       "<p>5 rows × 24 columns</p>\n",
       "</div>"
      ],
      "text/plain": [
       "   Month   Weekend  Ana_1  Ana_2  Ana_3  Ana_4     Ana_5  Ana_6  SellerPortal  \\\n",
       "0      1  Weekdays      2      2      1      3  0.462560    783             0   \n",
       "1      1  Weekdays      4      1      1      3  0.859220    748             0   \n",
       "2      1   Weekend      4      1      1      5  0.032907    835             0   \n",
       "3      1  Weekdays      3      2      1      3  0.290953    649             0   \n",
       "4      1  Weekdays      2      2      2      3  0.024576    653             0   \n",
       "\n",
       "   SellerPortal_timespent  ...  PageNotLoadingRate  PageExitRate  PageValues  \\\n",
       "0                     0.0  ...            0.015789      0.024561         0.0   \n",
       "1                     0.0  ...            0.000000      0.050000         0.0   \n",
       "2                     0.0  ...            0.000000      0.028571         0.0   \n",
       "3                     0.0  ...            0.000000      0.012963         0.0   \n",
       "4                     0.0  ...            0.200000      0.200000         0.0   \n",
       "\n",
       "   Holiday_Spl_day  Customer Type  Conversion_Flag  Weekend_ohe  Existing  \\\n",
       "0              0.0       Existing                0            0         1   \n",
       "1              0.0       Existing                0            0         1   \n",
       "2              0.0       Existing                0            1         1   \n",
       "3              0.8       Existing                0            0         1   \n",
       "4              0.0       Existing                0            0         1   \n",
       "\n",
       "  NewlyAcquired  Undetermined  \n",
       "0             0             0  \n",
       "1             0             0  \n",
       "2             0             0  \n",
       "3             0             0  \n",
       "4             0             0  \n",
       "\n",
       "[5 rows x 24 columns]"
      ]
     },
     "execution_count": 30,
     "metadata": {},
     "output_type": "execute_result"
    }
   ],
   "source": [
    "df.head()"
   ]
  },
  {
   "cell_type": "markdown",
   "metadata": {},
   "source": [
    "### EDA on Numeric feature"
   ]
  },
  {
   "cell_type": "code",
   "execution_count": 31,
   "metadata": {},
   "outputs": [
    {
     "data": {
      "text/plain": [
       "SellerPortal  Conversion_Flag\n",
       "0             0                  5915\n",
       "              1                   636\n",
       "1             0                  1175\n",
       "              1                   387\n",
       "2             0                   999\n",
       "              1                   260\n",
       "3             0                   806\n",
       "              1                   228\n",
       "4             0                   684\n",
       "              1                   198\n",
       "5             0                   505\n",
       "              1                   158\n",
       "6             0                   346\n",
       "              1                   140\n",
       "7             0                   295\n",
       "              1                    86\n",
       "8             0                   233\n",
       "              1                   104\n",
       "9             0                   179\n",
       "              1                    86\n",
       "10            0                   138\n",
       "              1                    38\n",
       "11            0                    83\n",
       "              1                    43\n",
       "12            0                    72\n",
       "              1                    29\n",
       "13            0                    41\n",
       "              1                    24\n",
       "14            0                    34\n",
       "              1                    13\n",
       "15            0                    34\n",
       "              1                     9\n",
       "16            0                    17\n",
       "              1                    11\n",
       "17            0                    13\n",
       "              1                     5\n",
       "18            0                    11\n",
       "              1                     3\n",
       "19            0                     7\n",
       "              1                     2\n",
       "20            0                     1\n",
       "              1                     1\n",
       "21            0                     2\n",
       "22            0                     2\n",
       "              1                     2\n",
       "23            0                     3\n",
       "24            0                     4\n",
       "26            1                     1\n",
       "27            0                     1\n",
       "Name: Month, dtype: int64"
      ]
     },
     "execution_count": 31,
     "metadata": {},
     "output_type": "execute_result"
    }
   ],
   "source": [
    "df.groupby(['SellerPortal','Conversion_Flag'])['Month'].count()"
   ]
  },
  {
   "cell_type": "markdown",
   "metadata": {},
   "source": [
    "* Most of people are target entering the seller_portal 0"
   ]
  },
  {
   "cell_type": "code",
   "execution_count": 32,
   "metadata": {},
   "outputs": [
    {
     "data": {
      "text/plain": [
       "Conversion_Flag\n",
       "0     71.905325\n",
       "1    120.618196\n",
       "Name: SellerPortal_timespent, dtype: float64"
      ]
     },
     "execution_count": 32,
     "metadata": {},
     "output_type": "execute_result"
    }
   ],
   "source": [
    "df.groupby(['Conversion_Flag'])['SellerPortal_timespent'].mean()"
   ]
  },
  {
   "cell_type": "code",
   "execution_count": 33,
   "metadata": {},
   "outputs": [
    {
     "data": {
      "text/plain": [
       "<matplotlib.axes._subplots.AxesSubplot at 0x16c212738b0>"
      ]
     },
     "execution_count": 33,
     "metadata": {},
     "output_type": "execute_result"
    },
    {
     "data": {
      "image/png": "[encoded data removed]",
      "text/plain": [
       "<Figure size 432x288 with 1 Axes>"
      ]
     },
     "metadata": {
      "needs_background": "light"
     },
     "output_type": "display_data"
    }
   ],
   "source": [
    "df[df['Conversion_Flag']==False]['SellerPortal_timespent'].plot(kind='hist')\n",
    "df[df['Conversion_Flag']==True]['SellerPortal_timespent'].plot(kind='hist')"
   ]
  },
  {
   "cell_type": "code",
   "execution_count": 34,
   "metadata": {},
   "outputs": [
    {
     "name": "stdout",
     "output_type": "stream",
     "text": [
      "71.90532456471554\n",
      "120.61819615661972\n",
      "\n",
      "\n",
      "167.37707236227084\n",
      "206.98165583257557\n"
     ]
    }
   ],
   "source": [
    "print(df[df['Conversion_Flag']==False]['SellerPortal_timespent'].mean())\n",
    "print(df[df['Conversion_Flag']==True]['SellerPortal_timespent'].mean())\n",
    "print('')\n",
    "print('')\n",
    "print(df[df['Conversion_Flag']==False]['SellerPortal_timespent'].std())\n",
    "print(df[df['Conversion_Flag']==True]['SellerPortal_timespent'].std())"
   ]
  },
  {
   "cell_type": "markdown",
   "metadata": {},
   "source": [
    "* Customer who spend more time on seller portal are likely to convert"
   ]
  },
  {
   "cell_type": "code",
   "execution_count": 35,
   "metadata": {},
   "outputs": [
    {
     "data": {
      "text/plain": [
       "<matplotlib.axes._subplots.AxesSubplot at 0x16c21f2b820>"
      ]
     },
     "execution_count": 35,
     "metadata": {},
     "output_type": "execute_result"
    },
    {
     "data": {
      "image/png": "[encoded data removed]",
      "text/plain": [
       "<Figure size 432x288 with 1 Axes>"
      ]
     },
     "metadata": {
      "needs_background": "light"
     },
     "output_type": "display_data"
    }
   ],
   "source": [
    "df[df['Conversion_Flag']==False]['HelpPage_TimeSpent'].plot(kind='hist')\n",
    "df[df['Conversion_Flag']==True]['HelpPage_TimeSpent'].plot(kind='hist')"
   ]
  },
  {
   "cell_type": "code",
   "execution_count": 36,
   "metadata": {},
   "outputs": [
    {
     "name": "stdout",
     "output_type": "stream",
     "text": [
      "29.027036818204852\n",
      "55.508859347152594\n",
      "\n",
      "\n",
      "131.37697245451494\n",
      "170.01503876593284\n"
     ]
    }
   ],
   "source": [
    "print(df[df['Conversion_Flag']==False]['HelpPage_TimeSpent'].mean())\n",
    "print(df[df['Conversion_Flag']==True]['HelpPage_TimeSpent'].mean())\n",
    "print('')\n",
    "print('')\n",
    "print(df[df['Conversion_Flag']==False]['HelpPage_TimeSpent'].std())\n",
    "print(df[df['Conversion_Flag']==True]['HelpPage_TimeSpent'].std())"
   ]
  },
  {
   "cell_type": "code",
   "execution_count": 37,
   "metadata": {},
   "outputs": [
    {
     "data": {
      "text/plain": [
       "<matplotlib.axes._subplots.AxesSubplot at 0x16c212f8190>"
      ]
     },
     "execution_count": 37,
     "metadata": {},
     "output_type": "execute_result"
    },
    {
     "data": {
      "image/png": "[encoded data removed]",
      "text/plain": [
       "<Figure size 432x288 with 1 Axes>"
      ]
     },
     "metadata": {
      "needs_background": "light"
     },
     "output_type": "display_data"
    }
   ],
   "source": [
    "df[df['Conversion_Flag']==False]['HelpPage_TimeSpent'].plot(kind='hist')\n",
    "df[df['Conversion_Flag']==True]['HelpPage_TimeSpent'].plot(kind='hist')"
   ]
  },
  {
   "cell_type": "code",
   "execution_count": 38,
   "metadata": {
    "scrolled": true
   },
   "outputs": [
    {
     "name": "stdout",
     "output_type": "stream",
     "text": [
      "1046.5214198708577\n",
      "1887.5535792105668\n",
      "\n",
      "\n",
      "1774.6154543256619\n",
      "2315.858478176994\n"
     ]
    }
   ],
   "source": [
    "print(df[df['Conversion_Flag']==False]['ViewItem_TimeSpent'].mean())\n",
    "print(df[df['Conversion_Flag']==True]['ViewItem_TimeSpent'].mean())\n",
    "print('')\n",
    "print('')\n",
    "print(df[df['Conversion_Flag']==False]['ViewItem_TimeSpent'].std())\n",
    "print(df[df['Conversion_Flag']==True]['ViewItem_TimeSpent'].std())"
   ]
  },
  {
   "cell_type": "code",
   "execution_count": 39,
   "metadata": {},
   "outputs": [
    {
     "data": {
      "text/plain": [
       "('PageNotLoadingRate', 'PageExitRate', 'PageValues')"
      ]
     },
     "execution_count": 39,
     "metadata": {},
     "output_type": "execute_result"
    }
   ],
   "source": [
    "'PageNotLoadingRate', 'PageExitRate', 'PageValues',"
   ]
  },
  {
   "cell_type": "code",
   "execution_count": 40,
   "metadata": {},
   "outputs": [
    {
     "data": {
      "text/plain": [
       "Month\n",
       "1     0.036737\n",
       "2     0.042219\n",
       "3     0.024048\n",
       "4     0.031067\n",
       "5     0.029767\n",
       "6     0.037106\n",
       "7     0.027134\n",
       "8     0.023949\n",
       "9     0.020036\n",
       "10    0.015315\n",
       "11    0.024178\n",
       "12    0.023282\n",
       "Name: PageNotLoadingRate, dtype: float64"
      ]
     },
     "execution_count": 40,
     "metadata": {},
     "output_type": "execute_result"
    }
   ],
   "source": [
    "df[df['Conversion_Flag']==False].groupby('Month')['PageNotLoadingRate'].mean()"
   ]
  },
  {
   "cell_type": "code",
   "execution_count": 41,
   "metadata": {},
   "outputs": [
    {
     "data": {
      "text/plain": [
       "Month\n",
       "1     0.004138\n",
       "2     0.006089\n",
       "3     0.003309\n",
       "4     0.005128\n",
       "5     0.004169\n",
       "6     0.005841\n",
       "7     0.006946\n",
       "8     0.005168\n",
       "9     0.006130\n",
       "10    0.006668\n",
       "11    0.006048\n",
       "12    0.003290\n",
       "Name: PageNotLoadingRate, dtype: float64"
      ]
     },
     "execution_count": 41,
     "metadata": {},
     "output_type": "execute_result"
    }
   ],
   "source": [
    "df[df['Conversion_Flag']==True].groupby('Month')['PageNotLoadingRate'].mean()"
   ]
  },
  {
   "cell_type": "code",
   "execution_count": 42,
   "metadata": {},
   "outputs": [
    {
     "data": {
      "text/plain": [
       "Conversion_Flag\n",
       "0    0.026061\n",
       "1    0.005151\n",
       "Name: PageNotLoadingRate, dtype: float64"
      ]
     },
     "execution_count": 42,
     "metadata": {},
     "output_type": "execute_result"
    }
   ],
   "source": [
    "df.groupby('Conversion_Flag')['PageNotLoadingRate'].mean()"
   ]
  },
  {
   "cell_type": "markdown",
   "metadata": {},
   "source": [
    "* End User facing less page error rate likely have higher chance of conversion"
   ]
  },
  {
   "cell_type": "code",
   "execution_count": 43,
   "metadata": {},
   "outputs": [
    {
     "data": {
      "text/plain": [
       "Month\n",
       "1     0.016996\n",
       "2     0.022288\n",
       "3     0.016533\n",
       "4     0.021119\n",
       "5     0.018181\n",
       "6     0.020700\n",
       "7     0.023542\n",
       "8     0.018217\n",
       "9     0.023198\n",
       "10    0.021959\n",
       "11    0.020147\n",
       "12    0.018074\n",
       "Name: PageExitRate, dtype: float64"
      ]
     },
     "execution_count": 43,
     "metadata": {},
     "output_type": "execute_result"
    }
   ],
   "source": [
    "df[df['Conversion_Flag']==True].groupby('Month')['PageExitRate'].mean()"
   ]
  },
  {
   "cell_type": "code",
   "execution_count": 44,
   "metadata": {},
   "outputs": [
    {
     "data": {
      "text/plain": [
       "Month\n",
       "1     0.057076\n",
       "2     0.068236\n",
       "3     0.048102\n",
       "4     0.054080\n",
       "5     0.052700\n",
       "6     0.062352\n",
       "7     0.049771\n",
       "8     0.045526\n",
       "9     0.039642\n",
       "10    0.034530\n",
       "11    0.044755\n",
       "12    0.045442\n",
       "Name: PageExitRate, dtype: float64"
      ]
     },
     "execution_count": 44,
     "metadata": {},
     "output_type": "execute_result"
    }
   ],
   "source": [
    "df[df['Conversion_Flag']==False].groupby('Month')['PageExitRate'].mean()"
   ]
  },
  {
   "cell_type": "code",
   "execution_count": 45,
   "metadata": {},
   "outputs": [
    {
     "data": {
      "text/plain": [
       "Conversion_Flag\n",
       "0    0.048346\n",
       "1    0.019590\n",
       "Name: PageExitRate, dtype: float64"
      ]
     },
     "execution_count": 45,
     "metadata": {},
     "output_type": "execute_result"
    }
   ],
   "source": [
    "df.groupby('Conversion_Flag')['PageExitRate'].mean()"
   ]
  },
  {
   "cell_type": "code",
   "execution_count": 46,
   "metadata": {},
   "outputs": [
    {
     "data": {
      "text/plain": [
       "Index(['Month', 'Weekend', 'Ana_1', 'Ana_2', 'Ana_3', 'Ana_4', 'Ana_5',\n",
       "       'Ana_6', 'SellerPortal', 'SellerPortal_timespent', 'HelpPage',\n",
       "       'HelpPage_TimeSpent', 'ViewItem', 'ViewItem_TimeSpent',\n",
       "       'PageNotLoadingRate', 'PageExitRate', 'PageValues', 'Holiday_Spl_day',\n",
       "       'Customer Type', 'Conversion_Flag', 'Weekend_ohe', 'Existing',\n",
       "       'NewlyAcquired', 'Undetermined'],\n",
       "      dtype='object')"
      ]
     },
     "execution_count": 46,
     "metadata": {},
     "output_type": "execute_result"
    }
   ],
   "source": [
    "df.columns"
   ]
  },
  {
   "cell_type": "markdown",
   "metadata": {},
   "source": [
    "On analyzing the PageExitRate and PageNotLoadingRate , User who had better user experience are likely to convert"
   ]
  },
  {
   "cell_type": "code",
   "execution_count": null,
   "metadata": {},
   "outputs": [],
   "source": [
    "##feature"
   ]
  },
  {
   "cell_type": "code",
   "execution_count": 47,
   "metadata": {
    "scrolled": true
   },
   "outputs": [
    {
     "data": {
      "text/html": [
       "<div>\n",
       "<style scoped>\n",
       "    .dataframe tbody tr th:only-of-type {\n",
       "        vertical-align: middle;\n",
       "    }\n",
       "\n",
       "    .dataframe tbody tr th {\n",
       "        vertical-align: top;\n",
       "    }\n",
       "\n",
       "    .dataframe thead th {\n",
       "        text-align: right;\n",
       "    }\n",
       "</style>\n",
       "<table border=\"1\" class=\"dataframe\">\n",
       "  <thead>\n",
       "    <tr style=\"text-align: right;\">\n",
       "      <th></th>\n",
       "      <th>Ana_5</th>\n",
       "      <th>Ana_6</th>\n",
       "      <th>SellerPortal_timespent</th>\n",
       "      <th>HelpPage_TimeSpent</th>\n",
       "      <th>ViewItem_TimeSpent</th>\n",
       "      <th>PageNotLoadingRate</th>\n",
       "      <th>PageExitRate</th>\n",
       "      <th>PageValues</th>\n",
       "      <th>Holiday_Spl_day</th>\n",
       "      <th>Conversion_Flag</th>\n",
       "    </tr>\n",
       "  </thead>\n",
       "  <tbody>\n",
       "    <tr>\n",
       "      <th>Ana_5</th>\n",
       "      <td>1.000000</td>\n",
       "      <td>-0.010380</td>\n",
       "      <td>0.003976</td>\n",
       "      <td>-0.006870</td>\n",
       "      <td>0.002964</td>\n",
       "      <td>-0.006885</td>\n",
       "      <td>-0.012250</td>\n",
       "      <td>0.017325</td>\n",
       "      <td>-0.012743</td>\n",
       "      <td>0.042013</td>\n",
       "    </tr>\n",
       "    <tr>\n",
       "      <th>Ana_6</th>\n",
       "      <td>-0.010380</td>\n",
       "      <td>1.000000</td>\n",
       "      <td>-0.007204</td>\n",
       "      <td>-0.024647</td>\n",
       "      <td>-0.005937</td>\n",
       "      <td>0.017604</td>\n",
       "      <td>0.013463</td>\n",
       "      <td>-0.000284</td>\n",
       "      <td>0.004361</td>\n",
       "      <td>-0.002303</td>\n",
       "    </tr>\n",
       "    <tr>\n",
       "      <th>SellerPortal_timespent</th>\n",
       "      <td>0.003976</td>\n",
       "      <td>-0.007204</td>\n",
       "      <td>1.000000</td>\n",
       "      <td>0.233749</td>\n",
       "      <td>0.346733</td>\n",
       "      <td>-0.146652</td>\n",
       "      <td>-0.209339</td>\n",
       "      <td>0.069213</td>\n",
       "      <td>-0.075406</td>\n",
       "      <td>0.105257</td>\n",
       "    </tr>\n",
       "    <tr>\n",
       "      <th>HelpPage_TimeSpent</th>\n",
       "      <td>-0.006870</td>\n",
       "      <td>-0.024647</td>\n",
       "      <td>0.233749</td>\n",
       "      <td>1.000000</td>\n",
       "      <td>0.337742</td>\n",
       "      <td>-0.073161</td>\n",
       "      <td>-0.103640</td>\n",
       "      <td>0.029872</td>\n",
       "      <td>-0.030580</td>\n",
       "      <td>0.072278</td>\n",
       "    </tr>\n",
       "    <tr>\n",
       "      <th>ViewItem_TimeSpent</th>\n",
       "      <td>0.002964</td>\n",
       "      <td>-0.005937</td>\n",
       "      <td>0.346733</td>\n",
       "      <td>0.337742</td>\n",
       "      <td>1.000000</td>\n",
       "      <td>-0.186367</td>\n",
       "      <td>-0.255539</td>\n",
       "      <td>0.050618</td>\n",
       "      <td>-0.038483</td>\n",
       "      <td>0.167601</td>\n",
       "    </tr>\n",
       "    <tr>\n",
       "      <th>PageNotLoadingRate</th>\n",
       "      <td>-0.006885</td>\n",
       "      <td>0.017604</td>\n",
       "      <td>-0.146652</td>\n",
       "      <td>-0.073161</td>\n",
       "      <td>-0.186367</td>\n",
       "      <td>1.000000</td>\n",
       "      <td>0.913532</td>\n",
       "      <td>-0.126380</td>\n",
       "      <td>0.074964</td>\n",
       "      <td>-0.163179</td>\n",
       "    </tr>\n",
       "    <tr>\n",
       "      <th>PageExitRate</th>\n",
       "      <td>-0.012250</td>\n",
       "      <td>0.013463</td>\n",
       "      <td>-0.209339</td>\n",
       "      <td>-0.103640</td>\n",
       "      <td>-0.255539</td>\n",
       "      <td>0.913532</td>\n",
       "      <td>1.000000</td>\n",
       "      <td>-0.183441</td>\n",
       "      <td>0.104032</td>\n",
       "      <td>-0.223856</td>\n",
       "    </tr>\n",
       "    <tr>\n",
       "      <th>PageValues</th>\n",
       "      <td>0.017325</td>\n",
       "      <td>-0.000284</td>\n",
       "      <td>0.069213</td>\n",
       "      <td>0.029872</td>\n",
       "      <td>0.050618</td>\n",
       "      <td>-0.126380</td>\n",
       "      <td>-0.183441</td>\n",
       "      <td>1.000000</td>\n",
       "      <td>-0.067431</td>\n",
       "      <td>0.500306</td>\n",
       "    </tr>\n",
       "    <tr>\n",
       "      <th>Holiday_Spl_day</th>\n",
       "      <td>-0.012743</td>\n",
       "      <td>0.004361</td>\n",
       "      <td>-0.075406</td>\n",
       "      <td>-0.030580</td>\n",
       "      <td>-0.038483</td>\n",
       "      <td>0.074964</td>\n",
       "      <td>0.104032</td>\n",
       "      <td>-0.067431</td>\n",
       "      <td>1.000000</td>\n",
       "      <td>-0.086369</td>\n",
       "    </tr>\n",
       "    <tr>\n",
       "      <th>Conversion_Flag</th>\n",
       "      <td>0.042013</td>\n",
       "      <td>-0.002303</td>\n",
       "      <td>0.105257</td>\n",
       "      <td>0.072278</td>\n",
       "      <td>0.167601</td>\n",
       "      <td>-0.163179</td>\n",
       "      <td>-0.223856</td>\n",
       "      <td>0.500306</td>\n",
       "      <td>-0.086369</td>\n",
       "      <td>1.000000</td>\n",
       "    </tr>\n",
       "  </tbody>\n",
       "</table>\n",
       "</div>"
      ],
      "text/plain": [
       "                           Ana_5     Ana_6  SellerPortal_timespent  \\\n",
       "Ana_5                   1.000000 -0.010380                0.003976   \n",
       "Ana_6                  -0.010380  1.000000               -0.007204   \n",
       "SellerPortal_timespent  0.003976 -0.007204                1.000000   \n",
       "HelpPage_TimeSpent     -0.006870 -0.024647                0.233749   \n",
       "ViewItem_TimeSpent      0.002964 -0.005937                0.346733   \n",
       "PageNotLoadingRate     -0.006885  0.017604               -0.146652   \n",
       "PageExitRate           -0.012250  0.013463               -0.209339   \n",
       "PageValues              0.017325 -0.000284                0.069213   \n",
       "Holiday_Spl_day        -0.012743  0.004361               -0.075406   \n",
       "Conversion_Flag         0.042013 -0.002303                0.105257   \n",
       "\n",
       "                        HelpPage_TimeSpent  ViewItem_TimeSpent  \\\n",
       "Ana_5                            -0.006870            0.002964   \n",
       "Ana_6                            -0.024647           -0.005937   \n",
       "SellerPortal_timespent            0.233749            0.346733   \n",
       "HelpPage_TimeSpent                1.000000            0.337742   \n",
       "ViewItem_TimeSpent                0.337742            1.000000   \n",
       "PageNotLoadingRate               -0.073161           -0.186367   \n",
       "PageExitRate                     -0.103640           -0.255539   \n",
       "PageValues                        0.029872            0.050618   \n",
       "Holiday_Spl_day                  -0.030580           -0.038483   \n",
       "Conversion_Flag                   0.072278            0.167601   \n",
       "\n",
       "                        PageNotLoadingRate  PageExitRate  PageValues  \\\n",
       "Ana_5                            -0.006885     -0.012250    0.017325   \n",
       "Ana_6                             0.017604      0.013463   -0.000284   \n",
       "SellerPortal_timespent           -0.146652     -0.209339    0.069213   \n",
       "HelpPage_TimeSpent               -0.073161     -0.103640    0.029872   \n",
       "ViewItem_TimeSpent               -0.186367     -0.255539    0.050618   \n",
       "PageNotLoadingRate                1.000000      0.913532   -0.126380   \n",
       "PageExitRate                      0.913532      1.000000   -0.183441   \n",
       "PageValues                       -0.126380     -0.183441    1.000000   \n",
       "Holiday_Spl_day                   0.074964      0.104032   -0.067431   \n",
       "Conversion_Flag                  -0.163179     -0.223856    0.500306   \n",
       "\n",
       "                        Holiday_Spl_day  Conversion_Flag  \n",
       "Ana_5                         -0.012743         0.042013  \n",
       "Ana_6                          0.004361        -0.002303  \n",
       "SellerPortal_timespent        -0.075406         0.105257  \n",
       "HelpPage_TimeSpent            -0.030580         0.072278  \n",
       "ViewItem_TimeSpent            -0.038483         0.167601  \n",
       "PageNotLoadingRate             0.074964        -0.163179  \n",
       "PageExitRate                   0.104032        -0.223856  \n",
       "PageValues                    -0.067431         0.500306  \n",
       "Holiday_Spl_day                1.000000        -0.086369  \n",
       "Conversion_Flag               -0.086369         1.000000  "
      ]
     },
     "execution_count": 47,
     "metadata": {},
     "output_type": "execute_result"
    }
   ],
   "source": [
    "df[['Ana_5','Ana_6','SellerPortal_timespent','HelpPage_TimeSpent', 'ViewItem_TimeSpent',\n",
    "       'PageNotLoadingRate', 'PageExitRate', 'PageValues', 'Holiday_Spl_day','Conversion_Flag']].corr()"
   ]
  },
  {
   "cell_type": "markdown",
   "metadata": {},
   "source": [
    "### Model"
   ]
  },
  {
   "cell_type": "markdown",
   "metadata": {},
   "source": [
    "#### Feature selection"
   ]
  },
  {
   "cell_type": "code",
   "execution_count": 48,
   "metadata": {},
   "outputs": [],
   "source": [
    "from sklearn.ensemble import RandomForestClassifier\n",
    "from sklearn.feature_selection import SelectFromModel\n",
    "from sklearn.model_selection import train_test_split\n",
    "random_state=1"
   ]
  },
  {
   "cell_type": "code",
   "execution_count": 49,
   "metadata": {},
   "outputs": [
    {
     "data": {
      "text/html": [
       "<div>\n",
       "<style scoped>\n",
       "    .dataframe tbody tr th:only-of-type {\n",
       "        vertical-align: middle;\n",
       "    }\n",
       "\n",
       "    .dataframe tbody tr th {\n",
       "        vertical-align: top;\n",
       "    }\n",
       "\n",
       "    .dataframe thead th {\n",
       "        text-align: right;\n",
       "    }\n",
       "</style>\n",
       "<table border=\"1\" class=\"dataframe\">\n",
       "  <thead>\n",
       "    <tr style=\"text-align: right;\">\n",
       "      <th></th>\n",
       "      <th>Month</th>\n",
       "      <th>Weekend</th>\n",
       "      <th>Ana_1</th>\n",
       "      <th>Ana_2</th>\n",
       "      <th>Ana_3</th>\n",
       "      <th>Ana_4</th>\n",
       "      <th>Ana_5</th>\n",
       "      <th>Ana_6</th>\n",
       "      <th>SellerPortal</th>\n",
       "      <th>SellerPortal_timespent</th>\n",
       "      <th>...</th>\n",
       "      <th>PageNotLoadingRate</th>\n",
       "      <th>PageExitRate</th>\n",
       "      <th>PageValues</th>\n",
       "      <th>Holiday_Spl_day</th>\n",
       "      <th>Customer Type</th>\n",
       "      <th>Conversion_Flag</th>\n",
       "      <th>Weekend_ohe</th>\n",
       "      <th>Existing</th>\n",
       "      <th>NewlyAcquired</th>\n",
       "      <th>Undetermined</th>\n",
       "    </tr>\n",
       "  </thead>\n",
       "  <tbody>\n",
       "    <tr>\n",
       "      <th>0</th>\n",
       "      <td>1</td>\n",
       "      <td>Weekdays</td>\n",
       "      <td>2</td>\n",
       "      <td>2</td>\n",
       "      <td>1</td>\n",
       "      <td>3</td>\n",
       "      <td>0.462560</td>\n",
       "      <td>783</td>\n",
       "      <td>0</td>\n",
       "      <td>0.0</td>\n",
       "      <td>...</td>\n",
       "      <td>0.015789</td>\n",
       "      <td>0.024561</td>\n",
       "      <td>0.0</td>\n",
       "      <td>0.0</td>\n",
       "      <td>Existing</td>\n",
       "      <td>0</td>\n",
       "      <td>0</td>\n",
       "      <td>1</td>\n",
       "      <td>0</td>\n",
       "      <td>0</td>\n",
       "    </tr>\n",
       "    <tr>\n",
       "      <th>1</th>\n",
       "      <td>1</td>\n",
       "      <td>Weekdays</td>\n",
       "      <td>4</td>\n",
       "      <td>1</td>\n",
       "      <td>1</td>\n",
       "      <td>3</td>\n",
       "      <td>0.859220</td>\n",
       "      <td>748</td>\n",
       "      <td>0</td>\n",
       "      <td>0.0</td>\n",
       "      <td>...</td>\n",
       "      <td>0.000000</td>\n",
       "      <td>0.050000</td>\n",
       "      <td>0.0</td>\n",
       "      <td>0.0</td>\n",
       "      <td>Existing</td>\n",
       "      <td>0</td>\n",
       "      <td>0</td>\n",
       "      <td>1</td>\n",
       "      <td>0</td>\n",
       "      <td>0</td>\n",
       "    </tr>\n",
       "    <tr>\n",
       "      <th>2</th>\n",
       "      <td>1</td>\n",
       "      <td>Weekend</td>\n",
       "      <td>4</td>\n",
       "      <td>1</td>\n",
       "      <td>1</td>\n",
       "      <td>5</td>\n",
       "      <td>0.032907</td>\n",
       "      <td>835</td>\n",
       "      <td>0</td>\n",
       "      <td>0.0</td>\n",
       "      <td>...</td>\n",
       "      <td>0.000000</td>\n",
       "      <td>0.028571</td>\n",
       "      <td>0.0</td>\n",
       "      <td>0.0</td>\n",
       "      <td>Existing</td>\n",
       "      <td>0</td>\n",
       "      <td>1</td>\n",
       "      <td>1</td>\n",
       "      <td>0</td>\n",
       "      <td>0</td>\n",
       "    </tr>\n",
       "    <tr>\n",
       "      <th>3</th>\n",
       "      <td>1</td>\n",
       "      <td>Weekdays</td>\n",
       "      <td>3</td>\n",
       "      <td>2</td>\n",
       "      <td>1</td>\n",
       "      <td>3</td>\n",
       "      <td>0.290953</td>\n",
       "      <td>649</td>\n",
       "      <td>0</td>\n",
       "      <td>0.0</td>\n",
       "      <td>...</td>\n",
       "      <td>0.000000</td>\n",
       "      <td>0.012963</td>\n",
       "      <td>0.0</td>\n",
       "      <td>0.8</td>\n",
       "      <td>Existing</td>\n",
       "      <td>0</td>\n",
       "      <td>0</td>\n",
       "      <td>1</td>\n",
       "      <td>0</td>\n",
       "      <td>0</td>\n",
       "    </tr>\n",
       "    <tr>\n",
       "      <th>4</th>\n",
       "      <td>1</td>\n",
       "      <td>Weekdays</td>\n",
       "      <td>2</td>\n",
       "      <td>2</td>\n",
       "      <td>2</td>\n",
       "      <td>3</td>\n",
       "      <td>0.024576</td>\n",
       "      <td>653</td>\n",
       "      <td>0</td>\n",
       "      <td>0.0</td>\n",
       "      <td>...</td>\n",
       "      <td>0.200000</td>\n",
       "      <td>0.200000</td>\n",
       "      <td>0.0</td>\n",
       "      <td>0.0</td>\n",
       "      <td>Existing</td>\n",
       "      <td>0</td>\n",
       "      <td>0</td>\n",
       "      <td>1</td>\n",
       "      <td>0</td>\n",
       "      <td>0</td>\n",
       "    </tr>\n",
       "  </tbody>\n",
       "</table>\n",
       "<p>5 rows × 24 columns</p>\n",
       "</div>"
      ],
      "text/plain": [
       "   Month   Weekend  Ana_1  Ana_2  Ana_3  Ana_4     Ana_5  Ana_6  SellerPortal  \\\n",
       "0      1  Weekdays      2      2      1      3  0.462560    783             0   \n",
       "1      1  Weekdays      4      1      1      3  0.859220    748             0   \n",
       "2      1   Weekend      4      1      1      5  0.032907    835             0   \n",
       "3      1  Weekdays      3      2      1      3  0.290953    649             0   \n",
       "4      1  Weekdays      2      2      2      3  0.024576    653             0   \n",
       "\n",
       "   SellerPortal_timespent  ...  PageNotLoadingRate  PageExitRate  PageValues  \\\n",
       "0                     0.0  ...            0.015789      0.024561         0.0   \n",
       "1                     0.0  ...            0.000000      0.050000         0.0   \n",
       "2                     0.0  ...            0.000000      0.028571         0.0   \n",
       "3                     0.0  ...            0.000000      0.012963         0.0   \n",
       "4                     0.0  ...            0.200000      0.200000         0.0   \n",
       "\n",
       "   Holiday_Spl_day  Customer Type  Conversion_Flag  Weekend_ohe  Existing  \\\n",
       "0              0.0       Existing                0            0         1   \n",
       "1              0.0       Existing                0            0         1   \n",
       "2              0.0       Existing                0            1         1   \n",
       "3              0.8       Existing                0            0         1   \n",
       "4              0.0       Existing                0            0         1   \n",
       "\n",
       "  NewlyAcquired  Undetermined  \n",
       "0             0             0  \n",
       "1             0             0  \n",
       "2             0             0  \n",
       "3             0             0  \n",
       "4             0             0  \n",
       "\n",
       "[5 rows x 24 columns]"
      ]
     },
     "execution_count": 49,
     "metadata": {},
     "output_type": "execute_result"
    }
   ],
   "source": [
    "df.head()"
   ]
  },
  {
   "cell_type": "code",
   "execution_count": 50,
   "metadata": {},
   "outputs": [
    {
     "data": {
      "text/plain": [
       "Index(['Month', 'Weekend', 'Ana_1', 'Ana_2', 'Ana_3', 'Ana_4', 'Ana_5',\n",
       "       'Ana_6', 'SellerPortal', 'SellerPortal_timespent', 'HelpPage',\n",
       "       'HelpPage_TimeSpent', 'ViewItem', 'ViewItem_TimeSpent',\n",
       "       'PageNotLoadingRate', 'PageExitRate', 'PageValues', 'Holiday_Spl_day',\n",
       "       'Customer Type', 'Conversion_Flag', 'Weekend_ohe', 'Existing',\n",
       "       'NewlyAcquired', 'Undetermined'],\n",
       "      dtype='object')"
      ]
     },
     "execution_count": 50,
     "metadata": {},
     "output_type": "execute_result"
    }
   ],
   "source": [
    "df.columns"
   ]
  },
  {
   "cell_type": "code",
   "execution_count": 51,
   "metadata": {},
   "outputs": [],
   "source": [
    "data=df[['Month','Ana_1', 'Ana_2', 'Ana_3', 'Ana_4', 'Ana_5',\n",
    "       'Ana_6', 'SellerPortal', 'SellerPortal_timespent', 'HelpPage',\n",
    "       'HelpPage_TimeSpent', 'ViewItem', 'ViewItem_TimeSpent',\n",
    "       'PageNotLoadingRate', 'PageExitRate', 'PageValues', 'Holiday_Spl_day',\n",
    "       'Conversion_Flag', 'Weekend_ohe', 'Existing',\n",
    "       'NewlyAcquired', 'Undetermined']]"
   ]
  },
  {
   "cell_type": "code",
   "execution_count": 52,
   "metadata": {},
   "outputs": [
    {
     "data": {
      "text/plain": [
       "(14064, 22)"
      ]
     },
     "execution_count": 52,
     "metadata": {},
     "output_type": "execute_result"
    }
   ],
   "source": [
    "data.shape"
   ]
  },
  {
   "cell_type": "code",
   "execution_count": 53,
   "metadata": {},
   "outputs": [],
   "source": [
    "X=data.drop('Conversion_Flag',axis=1)\n",
    "y=data['Conversion_Flag']"
   ]
  },
  {
   "cell_type": "markdown",
   "metadata": {},
   "source": [
    "#### OLS Method"
   ]
  },
  {
   "cell_type": "code",
   "execution_count": 54,
   "metadata": {},
   "outputs": [
    {
     "name": "stdout",
     "output_type": "stream",
     "text": [
      "Optimization terminated successfully.\n",
      "         Current function value: 0.314381\n",
      "         Iterations 9\n",
      "                           Logit Regression Results                           \n",
      "==============================================================================\n",
      "Dep. Variable:        Conversion_Flag   No. Observations:                14064\n",
      "Model:                          Logit   Df Residuals:                    14043\n",
      "Method:                           MLE   Df Model:                           20\n",
      "Date:                Sun, 24 Jan 2021   Pseudo R-squ.:                  0.3225\n",
      "Time:                        10:42:29   Log-Likelihood:                -4421.5\n",
      "converged:                       True   LL-Null:                       -6526.2\n",
      "Covariance Type:            nonrobust   LLR p-value:                     0.000\n",
      "==========================================================================================\n",
      "                             coef    std err          z      P>|z|      [0.025      0.975]\n",
      "------------------------------------------------------------------------------------------\n",
      "Month                      0.0485      0.009      5.681      0.000       0.032       0.065\n",
      "Ana_1                     -0.0482      0.035     -1.383      0.167      -0.117       0.020\n",
      "Ana_2                      0.0239      0.017      1.382      0.167      -0.010       0.058\n",
      "Ana_3                     -0.0151      0.012     -1.289      0.198      -0.038       0.008\n",
      "Ana_4                      0.0113      0.008      1.476      0.140      -0.004       0.026\n",
      "Ana_5                      0.4027      0.097      4.136      0.000       0.212       0.594\n",
      "Ana_6                   5.731e-05      0.000      0.536      0.592      -0.000       0.000\n",
      "SellerPortal               0.0070      0.010      0.707      0.480      -0.012       0.026\n",
      "SellerPortal_timespent    -0.0001      0.000     -0.629      0.529      -0.000       0.000\n",
      "HelpPage                   0.0190      0.025      0.768      0.442      -0.029       0.067\n",
      "HelpPage_TimeSpent      3.044e-05      0.000      0.149      0.882      -0.000       0.000\n",
      "ViewItem                   0.0029      0.001      2.736      0.006       0.001       0.005\n",
      "ViewItem_TimeSpent      8.138e-05   2.61e-05      3.119      0.002    3.02e-05       0.000\n",
      "PageNotLoadingRate        -2.8313      2.795     -1.013      0.311      -8.310       2.647\n",
      "PageExitRate             -15.3635      2.125     -7.231      0.000     -19.528     -11.199\n",
      "PageValues                 0.0855      0.002     37.627      0.000       0.081       0.090\n",
      "Holiday_Spl_day           -0.5943      0.188     -3.162      0.002      -0.963      -0.226\n",
      "Weekend_ohe                0.1364      0.064      2.135      0.033       0.011       0.262\n",
      "Existing                  -2.6397      0.157    -16.821      0.000      -2.947      -2.332\n",
      "NewlyAcquired             -2.3621      0.164    -14.418      0.000      -2.683      -2.041\n",
      "Undetermined              -3.3843      0.610     -5.549      0.000      -4.580      -2.189\n",
      "==========================================================================================\n"
     ]
    }
   ],
   "source": [
    "import statsmodels.api as sm\n",
    "log_reg = sm.Logit(y,X).fit()\n",
    "print(log_reg.summary()) "
   ]
  },
  {
   "cell_type": "markdown",
   "metadata": {},
   "source": [
    "Observation having P-vale less than or equal to 5% are good predicators"
   ]
  },
  {
   "cell_type": "markdown",
   "metadata": {},
   "source": [
    "#### Feature Importance"
   ]
  },
  {
   "cell_type": "code",
   "execution_count": 55,
   "metadata": {},
   "outputs": [
    {
     "data": {
      "text/plain": [
       "array([0.03268361, 0.01423101, 0.0147861 , 0.02406683, 0.02602093,\n",
       "       0.05745046, 0.05486503, 0.03682666, 0.04919078, 0.01524251,\n",
       "       0.02139045, 0.06211472, 0.07357915, 0.0452899 , 0.07874082,\n",
       "       0.36753577, 0.00393261, 0.00831615, 0.00635939, 0.00696638,\n",
       "       0.00041074])"
      ]
     },
     "execution_count": 55,
     "metadata": {},
     "output_type": "execute_result"
    }
   ],
   "source": [
    "clf = RandomForestClassifier(n_estimators=100)\n",
    "clf = clf.fit(X, y)\n",
    "clf.feature_importances_ "
   ]
  },
  {
   "cell_type": "code",
   "execution_count": 108,
   "metadata": {},
   "outputs": [
    {
     "data": {
      "text/plain": [
       "Index(['Month', 'Ana_1', 'Ana_2', 'Ana_3', 'Ana_4', 'Ana_5', 'Ana_6',\n",
       "       'SellerPortal', 'SellerPortal_timespent', 'HelpPage',\n",
       "       'HelpPage_TimeSpent', 'ViewItem', 'ViewItem_TimeSpent',\n",
       "       'PageNotLoadingRate', 'PageExitRate', 'PageValues', 'Holiday_Spl_day',\n",
       "       'Weekend_ohe', 'Existing', 'NewlyAcquired', 'Undetermined'],\n",
       "      dtype='object')"
      ]
     },
     "execution_count": 108,
     "metadata": {},
     "output_type": "execute_result"
    }
   ],
   "source": [
    "X.columns"
   ]
  },
  {
   "cell_type": "code",
   "execution_count": 56,
   "metadata": {},
   "outputs": [
    {
     "data": {
      "text/plain": [
       "(14064, 7)"
      ]
     },
     "execution_count": 56,
     "metadata": {},
     "output_type": "execute_result"
    }
   ],
   "source": [
    "model = SelectFromModel(clf, prefit=True)\n",
    "X_new = model.transform(X)\n",
    "X_new.shape "
   ]
  },
  {
   "cell_type": "code",
   "execution_count": 57,
   "metadata": {},
   "outputs": [
    {
     "data": {
      "text/plain": [
       "array([False, False, False, False, False,  True,  True, False,  True,\n",
       "       False, False,  True,  True, False,  True,  True, False, False,\n",
       "       False, False, False])"
      ]
     },
     "execution_count": 57,
     "metadata": {},
     "output_type": "execute_result"
    }
   ],
   "source": [
    "model.get_support()"
   ]
  },
  {
   "cell_type": "code",
   "execution_count": 58,
   "metadata": {},
   "outputs": [
    {
     "name": "stdout",
     "output_type": "stream",
     "text": [
      "Index(['Ana_5', 'Ana_6', 'SellerPortal_timespent', 'ViewItem',\n",
      "       'ViewItem_TimeSpent', 'PageExitRate', 'PageValues'],\n",
      "      dtype='object')\n"
     ]
    }
   ],
   "source": [
    "selected_feat= X.columns[(model.get_support())]\n",
    "print(selected_feat)"
   ]
  },
  {
   "cell_type": "code",
   "execution_count": 59,
   "metadata": {},
   "outputs": [],
   "source": [
    "### note :https://towardsdatascience.com/feature-selection-using-random-forest-26d7b747597f"
   ]
  },
  {
   "cell_type": "code",
   "execution_count": 60,
   "metadata": {},
   "outputs": [
    {
     "data": {
      "text/plain": [
       "RFECV(cv=StratifiedKFold(n_splits=10, random_state=None, shuffle=False),\n",
       "      estimator=RandomForestClassifier(), scoring='accuracy')"
      ]
     },
     "execution_count": 60,
     "metadata": {},
     "output_type": "execute_result"
    }
   ],
   "source": [
    "from sklearn.feature_selection import RFECV\n",
    "from sklearn.model_selection import StratifiedKFold\n",
    "rfecv = RFECV(estimator=clf, step=1, cv=StratifiedKFold(10), scoring='accuracy')\n",
    "rfecv.fit(X, y)"
   ]
  },
  {
   "cell_type": "code",
   "execution_count": 61,
   "metadata": {},
   "outputs": [
    {
     "name": "stdout",
     "output_type": "stream",
     "text": [
      "Optimal number of features: 7\n"
     ]
    }
   ],
   "source": [
    "print('Optimal number of features: {}'.format(rfecv.n_features_))"
   ]
  },
  {
   "cell_type": "code",
   "execution_count": 62,
   "metadata": {},
   "outputs": [
    {
     "data": {
      "image/png": "[encoded data removed]",
      "text/plain": [
       "<Figure size 1152x648 with 1 Axes>"
      ]
     },
     "metadata": {
      "needs_background": "light"
     },
     "output_type": "display_data"
    }
   ],
   "source": [
    "plt.figure(figsize=(16, 9))\n",
    "plt.title('Recursive Feature Elimination with Cross-Validation', fontsize=18, fontweight='bold', pad=20)\n",
    "plt.xlabel('Number of features selected', fontsize=14, labelpad=20)\n",
    "plt.ylabel('% Correct Classification', fontsize=14, labelpad=20)\n",
    "plt.plot(range(1, len(rfecv.grid_scores_) + 1), rfecv.grid_scores_, color='#303F9F', linewidth=3)\n",
    "\n",
    "plt.show() "
   ]
  },
  {
   "cell_type": "code",
   "execution_count": 63,
   "metadata": {},
   "outputs": [
    {
     "name": "stdout",
     "output_type": "stream",
     "text": [
      "[ 0  1  2  3  4  7  9 10 13 16 17 18 19 20]\n"
     ]
    }
   ],
   "source": [
    "print(np.where(rfecv.support_ == False)[0])\n",
    "\n",
    "X_new=X.drop(X.columns[np.where(rfecv.support_ == False)[0]], axis=1)"
   ]
  },
  {
   "cell_type": "code",
   "execution_count": 64,
   "metadata": {},
   "outputs": [
    {
     "name": "stdout",
     "output_type": "stream",
     "text": [
      "                     attr  importance\n",
      "6              PageValues    0.421859\n",
      "5            PageExitRate    0.116962\n",
      "4      ViewItem_TimeSpent    0.111172\n",
      "0                   Ana_5    0.092279\n",
      "3                ViewItem    0.087625\n",
      "1                   Ana_6    0.087527\n",
      "2  SellerPortal_timespent    0.082575\n"
     ]
    },
    {
     "data": {
      "image/png": "[encoded data removed]",
      "text/plain": [
       "<Figure size 1152x1008 with 1 Axes>"
      ]
     },
     "metadata": {
      "needs_background": "light"
     },
     "output_type": "display_data"
    }
   ],
   "source": [
    "dset = pd.DataFrame()\n",
    "dset['attr'] = X_new.columns\n",
    "dset['importance'] = rfecv.estimator_.feature_importances_\n",
    "\n",
    "dset = dset.sort_values(by='importance', ascending=False)\n",
    "print(dset)\n",
    "\n",
    "plt.figure(figsize=(16, 14))\n",
    "plt.barh(y=dset['attr'], width=dset['importance'], color='#1976D2')\n",
    "plt.title('RFECV - Feature Importances', fontsize=20, fontweight='bold', pad=20)\n",
    "plt.xlabel('Importance', fontsize=14, labelpad=20)\n",
    "plt.show()"
   ]
  },
  {
   "cell_type": "code",
   "execution_count": 65,
   "metadata": {},
   "outputs": [
    {
     "data": {
      "text/plain": [
       "RFECV(cv=StratifiedKFold(n_splits=10, random_state=None, shuffle=False),\n",
       "      estimator=RandomForestClassifier(), scoring='f1')"
      ]
     },
     "execution_count": 65,
     "metadata": {},
     "output_type": "execute_result"
    }
   ],
   "source": [
    "from sklearn.feature_selection import RFECV\n",
    "from sklearn.model_selection import StratifiedKFold\n",
    "rfecv = RFECV(estimator=clf, step=1, cv=StratifiedKFold(10), scoring='f1')\n",
    "rfecv.fit(X, y)"
   ]
  },
  {
   "cell_type": "code",
   "execution_count": 66,
   "metadata": {},
   "outputs": [
    {
     "name": "stdout",
     "output_type": "stream",
     "text": [
      "Optimal number of features: 7\n"
     ]
    }
   ],
   "source": [
    "print('Optimal number of features: {}'.format(rfecv.n_features_))"
   ]
  },
  {
   "cell_type": "code",
   "execution_count": 67,
   "metadata": {},
   "outputs": [
    {
     "data": {
      "image/png": "[encoded data removed]",
      "text/plain": [
       "<Figure size 1152x648 with 1 Axes>"
      ]
     },
     "metadata": {
      "needs_background": "light"
     },
     "output_type": "display_data"
    }
   ],
   "source": [
    "plt.figure(figsize=(16, 9))\n",
    "plt.title('Recursive Feature Elimination with Cross-Validation', fontsize=18, fontweight='bold', pad=20)\n",
    "plt.xlabel('Number of features selected', fontsize=14, labelpad=20)\n",
    "plt.ylabel('% Correct Classification', fontsize=14, labelpad=20)\n",
    "plt.plot(range(1, len(rfecv.grid_scores_) + 1), rfecv.grid_scores_, color='#303F9F', linewidth=3)\n",
    "\n",
    "plt.show() "
   ]
  },
  {
   "cell_type": "code",
   "execution_count": 68,
   "metadata": {},
   "outputs": [
    {
     "name": "stdout",
     "output_type": "stream",
     "text": [
      "[ 0  1  2  3  4  7  9 10 13 16 17 18 19 20]\n"
     ]
    }
   ],
   "source": [
    "print(np.where(rfecv.support_ == False)[0])\n",
    "\n",
    "X_new=X.drop(X.columns[np.where(rfecv.support_ == False)[0]], axis=1)"
   ]
  },
  {
   "cell_type": "code",
   "execution_count": 69,
   "metadata": {},
   "outputs": [
    {
     "name": "stdout",
     "output_type": "stream",
     "text": [
      "                     attr  importance\n",
      "6              PageValues    0.427148\n",
      "5            PageExitRate    0.115302\n",
      "4      ViewItem_TimeSpent    0.109232\n",
      "0                   Ana_5    0.092314\n",
      "3                ViewItem    0.087883\n",
      "1                   Ana_6    0.085533\n",
      "2  SellerPortal_timespent    0.082588\n"
     ]
    },
    {
     "data": {
      "image/png": "[encoded data removed]",
      "text/plain": [
       "<Figure size 1152x1008 with 1 Axes>"
      ]
     },
     "metadata": {
      "needs_background": "light"
     },
     "output_type": "display_data"
    }
   ],
   "source": [
    "dset = pd.DataFrame()\n",
    "dset['attr'] = X_new.columns\n",
    "dset['importance'] = rfecv.estimator_.feature_importances_\n",
    "\n",
    "dset = dset.sort_values(by='importance', ascending=False)\n",
    "print(dset)\n",
    "\n",
    "plt.figure(figsize=(16, 14))\n",
    "plt.barh(y=dset['attr'], width=dset['importance'], color='#1976D2')\n",
    "plt.title('RFECV - Feature Importances', fontsize=20, fontweight='bold', pad=20)\n",
    "plt.xlabel('Importance', fontsize=14, labelpad=20)\n",
    "plt.show()"
   ]
  },
  {
   "cell_type": "markdown",
   "metadata": {},
   "source": [
    "After observing all the above feature importance technique finalizing the best features for model development which are bucketed in the best_feature_combination list"
   ]
  },
  {
   "cell_type": "code",
   "execution_count": 70,
   "metadata": {},
   "outputs": [],
   "source": [
    "best_feature_combination=['SellerPortal_timespent','Ana_6','ViewItem','Ana_5','ViewItem_TimeSpent','PageExitRate','PageValues']"
   ]
  },
  {
   "cell_type": "markdown",
   "metadata": {},
   "source": [
    "#### Handling Imbalance Dataset"
   ]
  },
  {
   "cell_type": "code",
   "execution_count": 71,
   "metadata": {},
   "outputs": [],
   "source": [
    "from imblearn.over_sampling import SMOTE"
   ]
  },
  {
   "cell_type": "code",
   "execution_count": 72,
   "metadata": {},
   "outputs": [
    {
     "data": {
      "text/plain": [
       "0    0.824801\n",
       "1    0.175199\n",
       "Name: Conversion_Flag, dtype: float64"
      ]
     },
     "execution_count": 72,
     "metadata": {},
     "output_type": "execute_result"
    }
   ],
   "source": [
    "df['Conversion_Flag'].value_counts()/df['Conversion_Flag'].value_counts().sum()"
   ]
  },
  {
   "cell_type": "code",
   "execution_count": 73,
   "metadata": {},
   "outputs": [],
   "source": [
    "sm = SMOTE(random_state=random_state,sampling_strategy=0.35)\n",
    "X_res, y_res = sm.fit_resample(X, y)"
   ]
  },
  {
   "cell_type": "code",
   "execution_count": 74,
   "metadata": {},
   "outputs": [
    {
     "data": {
      "text/plain": [
       "0    0.740788\n",
       "1    0.259212\n",
       "Name: Conversion_Flag, dtype: float64"
      ]
     },
     "execution_count": 74,
     "metadata": {},
     "output_type": "execute_result"
    }
   ],
   "source": [
    "y_res.value_counts()/y_res.value_counts().sum()"
   ]
  },
  {
   "cell_type": "markdown",
   "metadata": {},
   "source": [
    "After applying smote we have partially balanced the data with event rate T:F , 1:3"
   ]
  },
  {
   "cell_type": "markdown",
   "metadata": {},
   "source": [
    "#### Building model"
   ]
  },
  {
   "cell_type": "code",
   "execution_count": 75,
   "metadata": {},
   "outputs": [],
   "source": [
    "Eva_metrics =pd.DataFrame(columns=['Model','Accuracy','Precision','Avg_Precision','Recall','F1Score','AUC_ROC score','matthews_corrcoef'])"
   ]
  },
  {
   "cell_type": "markdown",
   "metadata": {},
   "source": [
    "Splitting the dataset for train and test"
   ]
  },
  {
   "cell_type": "markdown",
   "metadata": {},
   "source": [
    "#### ROC Curve"
   ]
  },
  {
   "cell_type": "markdown",
   "metadata": {},
   "source": [
    "### Evaluation metrics"
   ]
  },
  {
   "cell_type": "code",
   "execution_count": 76,
   "metadata": {},
   "outputs": [],
   "source": [
    "from sklearn.metrics import roc_curve,auc\n",
    "from sklearn.metrics import precision_score,average_precision_score\n",
    "from sklearn.metrics import recall_score\n",
    "from sklearn.metrics import f1_score,roc_auc_score\n",
    "from sklearn.metrics import accuracy_score\n",
    "from sklearn.metrics import confusion_matrix\n",
    "from sklearn.metrics import classification_report"
   ]
  },
  {
   "cell_type": "code",
   "execution_count": 77,
   "metadata": {},
   "outputs": [],
   "source": [
    "def evaluation_metric(model,clf,X_test,y_test):\n",
    "    from sklearn.metrics import matthews_corrcoef\n",
    "    y_pred = clf.predict(X_test)\n",
    "#   model = \"RF with all feature\"\n",
    "    model=model\n",
    "    print(\"Accuracy score \",accuracy_score(y_test, y_pred))\n",
    "    Accuracy=accuracy_score(y_test, y_pred)\n",
    "    print(\"Precision score \",precision_score(y_test, y_pred))\n",
    "    Precision=precision_score(y_test, y_pred)\n",
    "    print(\"Avg Precision score \",average_precision_score(y_test, y_pred))\n",
    "    average_precision =average_precision_score(y_test, y_pred)\n",
    "    print(\"Recall score \",recall_score(y_test, y_pred))\n",
    "    Recall=recall_score(y_test, y_pred)\n",
    "    print(\"F1 score \",f1_score(y_test, y_pred))\n",
    "    f1=f1_score(y_test, y_pred)\n",
    "    print(\"AUC_ROC score \",roc_auc_score(y_test, y_pred))\n",
    "    roc_auc=roc_auc_score(y_test, y_pred)\n",
    "    print(\"matthews_corrcoef score \",matthews_corrcoef(y_test, y_pred))\n",
    "    matthews_corrcoeff=matthews_corrcoef(y_test, y_pred)\n",
    "    return model,Accuracy,Precision,average_precision,Recall,f1,roc_auc,matthews_corrcoeff"
   ]
  },
  {
   "cell_type": "code",
   "execution_count": 78,
   "metadata": {},
   "outputs": [],
   "source": [
    "def ROC_curve(clf,X_test):\n",
    "    pred_probs = clf.predict_proba(X_test)\n",
    "    conversion_probs = pred_probs[:,1]\n",
    "    fpr, tpr, thresholds = roc_curve(y_test, conversion_probs)\n",
    "    roc_auc = auc(fpr, tpr)\n",
    "\n",
    "    plt.title('Receiver Operating Characteristic')\n",
    "    plt.plot(fpr, tpr, 'y', label = 'AUC = %0.2f' % roc_auc)\n",
    "    plt.legend(loc = 'lower right')\n",
    "    plt.plot([0, 1], [0, 1],'r--')\n",
    "    plt.xlim([0, 1])\n",
    "    plt.ylim([0, 1])\n",
    "    plt.ylabel('True Positive Rate')\n",
    "    plt.xlabel('False Positive Rate')\n",
    "    plt.show()\n"
   ]
  },
  {
   "cell_type": "markdown",
   "metadata": {},
   "source": [
    "#### 1. Random Forest"
   ]
  },
  {
   "cell_type": "code",
   "execution_count": 79,
   "metadata": {},
   "outputs": [],
   "source": [
    "from sklearn.model_selection import train_test_split\n",
    "X_train, X_test, y_train, y_test = train_test_split(X_res, y_res, test_size=0.33,stratify=y_res, random_state=random_state)"
   ]
  },
  {
   "cell_type": "code",
   "execution_count": 80,
   "metadata": {},
   "outputs": [
    {
     "data": {
      "text/plain": [
       "RandomForestClassifier()"
      ]
     },
     "execution_count": 80,
     "metadata": {},
     "output_type": "execute_result"
    }
   ],
   "source": [
    "rf = RandomForestClassifier(n_estimators=100)\n",
    "rf.fit(X_train,y_train)"
   ]
  },
  {
   "cell_type": "code",
   "execution_count": 81,
   "metadata": {},
   "outputs": [
    {
     "data": {
      "text/plain": [
       "array([[3595,  233],\n",
       "       [ 209, 1131]], dtype=int64)"
      ]
     },
     "execution_count": 81,
     "metadata": {},
     "output_type": "execute_result"
    }
   ],
   "source": [
    "confusion_matrix(y_test, rf.predict(X_test))"
   ]
  },
  {
   "cell_type": "code",
   "execution_count": 82,
   "metadata": {},
   "outputs": [
    {
     "data": {
      "image/png": "[encoded data removed]",
      "text/plain": [
       "<Figure size 432x288 with 1 Axes>"
      ]
     },
     "metadata": {
      "needs_background": "light"
     },
     "output_type": "display_data"
    },
    {
     "name": "stdout",
     "output_type": "stream",
     "text": [
      "Accuracy score  0.9144736842105263\n",
      "Precision score  0.8291788856304986\n",
      "Avg Precision score  0.7402929075512553\n",
      "Recall score  0.8440298507462687\n",
      "F1 score  0.8365384615384616\n",
      "AUC_ROC score  0.8915812785601771\n",
      "matthews_corrcoef score  0.7786868491582126\n"
     ]
    }
   ],
   "source": [
    "ROC_curve(rf,X_test)\n",
    "model,Accuracy,Precision,average_precision,Recall,f1,roc_auc,matthews_corrcoef=evaluation_metric(\"RF with all feature\",rf,X_test,y_test)"
   ]
  },
  {
   "cell_type": "code",
   "execution_count": 83,
   "metadata": {},
   "outputs": [
    {
     "data": {
      "text/html": [
       "<div>\n",
       "<style scoped>\n",
       "    .dataframe tbody tr th:only-of-type {\n",
       "        vertical-align: middle;\n",
       "    }\n",
       "\n",
       "    .dataframe tbody tr th {\n",
       "        vertical-align: top;\n",
       "    }\n",
       "\n",
       "    .dataframe thead th {\n",
       "        text-align: right;\n",
       "    }\n",
       "</style>\n",
       "<table border=\"1\" class=\"dataframe\">\n",
       "  <thead>\n",
       "    <tr style=\"text-align: right;\">\n",
       "      <th></th>\n",
       "      <th>Model</th>\n",
       "      <th>Accuracy</th>\n",
       "      <th>Precision</th>\n",
       "      <th>Avg_Precision</th>\n",
       "      <th>Recall</th>\n",
       "      <th>F1Score</th>\n",
       "      <th>AUC_ROC score</th>\n",
       "      <th>matthews_corrcoef</th>\n",
       "    </tr>\n",
       "  </thead>\n",
       "  <tbody>\n",
       "    <tr>\n",
       "      <th>0</th>\n",
       "      <td>RF with all feature</td>\n",
       "      <td>91.45</td>\n",
       "      <td>82.92</td>\n",
       "      <td>74.03</td>\n",
       "      <td>84.4</td>\n",
       "      <td>83.65</td>\n",
       "      <td>89.16</td>\n",
       "      <td>0.78</td>\n",
       "    </tr>\n",
       "  </tbody>\n",
       "</table>\n",
       "</div>"
      ],
      "text/plain": [
       "                 Model  Accuracy  Precision  Avg_Precision  Recall  F1Score  \\\n",
       "0  RF with all feature     91.45      82.92          74.03    84.4    83.65   \n",
       "\n",
       "   AUC_ROC score  matthews_corrcoef  \n",
       "0          89.16               0.78  "
      ]
     },
     "execution_count": 83,
     "metadata": {},
     "output_type": "execute_result"
    }
   ],
   "source": [
    "Eva_metrics.loc[0] =[model,round(Accuracy*100,2),round(Precision*100,2),round(average_precision*100,2),round(Recall*100,2),round(f1*100,2),round(roc_auc*100,2),round(matthews_corrcoef,2)]\n",
    "Eva_metrics"
   ]
  },
  {
   "cell_type": "markdown",
   "metadata": {},
   "source": [
    "#### 2.RF with best featurer"
   ]
  },
  {
   "cell_type": "code",
   "execution_count": 84,
   "metadata": {},
   "outputs": [],
   "source": [
    "X_train, X_test, y_train, y_test = train_test_split(X_res[best_feature_combination], y_res, test_size=0.33,stratify=y_res, random_state=random_state)"
   ]
  },
  {
   "cell_type": "code",
   "execution_count": 85,
   "metadata": {},
   "outputs": [
    {
     "data": {
      "text/plain": [
       "RandomForestClassifier()"
      ]
     },
     "execution_count": 85,
     "metadata": {},
     "output_type": "execute_result"
    }
   ],
   "source": [
    "rf_bf = RandomForestClassifier(n_estimators=100)\n",
    "rf_bf.fit(X_train,y_train)"
   ]
  },
  {
   "cell_type": "code",
   "execution_count": 86,
   "metadata": {},
   "outputs": [
    {
     "data": {
      "text/plain": [
       "array([[3561,  267],\n",
       "       [ 193, 1147]], dtype=int64)"
      ]
     },
     "execution_count": 86,
     "metadata": {},
     "output_type": "execute_result"
    }
   ],
   "source": [
    "confusion_matrix(y_test, rf_bf.predict(X_test))"
   ]
  },
  {
   "cell_type": "code",
   "execution_count": 87,
   "metadata": {},
   "outputs": [
    {
     "data": {
      "image/png": "[encoded data removed]",
      "text/plain": [
       "<Figure size 432x288 with 1 Axes>"
      ]
     },
     "metadata": {
      "needs_background": "light"
     },
     "output_type": "display_data"
    },
    {
     "name": "stdout",
     "output_type": "stream",
     "text": [
      "Accuracy score  0.9109907120743034\n",
      "Precision score  0.8111739745403111\n",
      "Avg Precision score  0.7316859092964028\n",
      "Recall score  0.8559701492537314\n",
      "F1 score  0.8329702251270878\n",
      "AUC_ROC score  0.8931104664763955\n",
      "matthews_corrcoef score  0.7728783242913164\n"
     ]
    }
   ],
   "source": [
    "ROC_curve(rf_bf,X_test)\n",
    "model,Accuracy,Precision,average_precision,Recall,f1,roc_auc,matthews_corrcoef=evaluation_metric(\"RF with best feature\",rf_bf,X_test,y_test)"
   ]
  },
  {
   "cell_type": "code",
   "execution_count": 88,
   "metadata": {},
   "outputs": [
    {
     "data": {
      "text/html": [
       "<div>\n",
       "<style scoped>\n",
       "    .dataframe tbody tr th:only-of-type {\n",
       "        vertical-align: middle;\n",
       "    }\n",
       "\n",
       "    .dataframe tbody tr th {\n",
       "        vertical-align: top;\n",
       "    }\n",
       "\n",
       "    .dataframe thead th {\n",
       "        text-align: right;\n",
       "    }\n",
       "</style>\n",
       "<table border=\"1\" class=\"dataframe\">\n",
       "  <thead>\n",
       "    <tr style=\"text-align: right;\">\n",
       "      <th></th>\n",
       "      <th>Model</th>\n",
       "      <th>Accuracy</th>\n",
       "      <th>Precision</th>\n",
       "      <th>Avg_Precision</th>\n",
       "      <th>Recall</th>\n",
       "      <th>F1Score</th>\n",
       "      <th>AUC_ROC score</th>\n",
       "      <th>matthews_corrcoef</th>\n",
       "    </tr>\n",
       "  </thead>\n",
       "  <tbody>\n",
       "    <tr>\n",
       "      <th>0</th>\n",
       "      <td>RF with all feature</td>\n",
       "      <td>91.45</td>\n",
       "      <td>82.92</td>\n",
       "      <td>74.03</td>\n",
       "      <td>84.4</td>\n",
       "      <td>83.65</td>\n",
       "      <td>89.16</td>\n",
       "      <td>0.78</td>\n",
       "    </tr>\n",
       "    <tr>\n",
       "      <th>1</th>\n",
       "      <td>RF with best feature</td>\n",
       "      <td>91.10</td>\n",
       "      <td>81.12</td>\n",
       "      <td>73.17</td>\n",
       "      <td>85.6</td>\n",
       "      <td>83.30</td>\n",
       "      <td>89.31</td>\n",
       "      <td>0.77</td>\n",
       "    </tr>\n",
       "  </tbody>\n",
       "</table>\n",
       "</div>"
      ],
      "text/plain": [
       "                  Model  Accuracy  Precision  Avg_Precision  Recall  F1Score  \\\n",
       "0   RF with all feature     91.45      82.92          74.03    84.4    83.65   \n",
       "1  RF with best feature     91.10      81.12          73.17    85.6    83.30   \n",
       "\n",
       "   AUC_ROC score  matthews_corrcoef  \n",
       "0          89.16               0.78  \n",
       "1          89.31               0.77  "
      ]
     },
     "execution_count": 88,
     "metadata": {},
     "output_type": "execute_result"
    }
   ],
   "source": [
    "Eva_metrics.loc[1] =[model,round(Accuracy*100,2),round(Precision*100,2),round(average_precision*100,2),round(Recall*100,2),round(f1*100,2),round(roc_auc*100,2),round(matthews_corrcoef,2)]\n",
    "Eva_metrics"
   ]
  },
  {
   "cell_type": "markdown",
   "metadata": {},
   "source": [
    "#### 3.Logistic Regression"
   ]
  },
  {
   "cell_type": "code",
   "execution_count": 89,
   "metadata": {},
   "outputs": [],
   "source": [
    "X_train, X_test, y_train, y_test = train_test_split(X_res, y_res, test_size=0.33,stratify=y_res, random_state=random_state)"
   ]
  },
  {
   "cell_type": "code",
   "execution_count": 90,
   "metadata": {},
   "outputs": [
    {
     "data": {
      "image/png": "[encoded data removed]",
      "text/plain": [
       "<Figure size 432x288 with 1 Axes>"
      ]
     },
     "metadata": {
      "needs_background": "light"
     },
     "output_type": "display_data"
    },
    {
     "name": "stdout",
     "output_type": "stream",
     "text": [
      "Accuracy score  0.8473297213622291\n",
      "Precision score  0.812004530011325\n",
      "Avg Precision score  0.55503255651276\n",
      "Recall score  0.5350746268656716\n",
      "F1 score  0.6450742240215924\n",
      "AUC_ROC score  0.7458549727849779\n",
      "matthews_corrcoef score  0.5725212244755156\n"
     ]
    }
   ],
   "source": [
    "from sklearn.linear_model import LogisticRegression\n",
    "LR=LogisticRegression().fit(X_train, y_train)\n",
    "ROC_curve(LR,X_test)\n",
    "model,Accuracy,Precision,average_precision,Recall,f1,roc_auc,matthews_corrcoef=evaluation_metric(\"LR with all feature\",LR,X_test,y_test)"
   ]
  },
  {
   "cell_type": "code",
   "execution_count": 91,
   "metadata": {},
   "outputs": [
    {
     "data": {
      "text/plain": [
       "array([[3662,  166],\n",
       "       [ 623,  717]], dtype=int64)"
      ]
     },
     "execution_count": 91,
     "metadata": {},
     "output_type": "execute_result"
    }
   ],
   "source": [
    "confusion_matrix(y_test, LR.predict(X_test))"
   ]
  },
  {
   "cell_type": "code",
   "execution_count": 92,
   "metadata": {},
   "outputs": [
    {
     "data": {
      "text/html": [
       "<div>\n",
       "<style scoped>\n",
       "    .dataframe tbody tr th:only-of-type {\n",
       "        vertical-align: middle;\n",
       "    }\n",
       "\n",
       "    .dataframe tbody tr th {\n",
       "        vertical-align: top;\n",
       "    }\n",
       "\n",
       "    .dataframe thead th {\n",
       "        text-align: right;\n",
       "    }\n",
       "</style>\n",
       "<table border=\"1\" class=\"dataframe\">\n",
       "  <thead>\n",
       "    <tr style=\"text-align: right;\">\n",
       "      <th></th>\n",
       "      <th>Model</th>\n",
       "      <th>Accuracy</th>\n",
       "      <th>Precision</th>\n",
       "      <th>Avg_Precision</th>\n",
       "      <th>Recall</th>\n",
       "      <th>F1Score</th>\n",
       "      <th>AUC_ROC score</th>\n",
       "      <th>matthews_corrcoef</th>\n",
       "    </tr>\n",
       "  </thead>\n",
       "  <tbody>\n",
       "    <tr>\n",
       "      <th>0</th>\n",
       "      <td>RF with all feature</td>\n",
       "      <td>91.45</td>\n",
       "      <td>82.92</td>\n",
       "      <td>74.03</td>\n",
       "      <td>84.40</td>\n",
       "      <td>83.65</td>\n",
       "      <td>89.16</td>\n",
       "      <td>0.78</td>\n",
       "    </tr>\n",
       "    <tr>\n",
       "      <th>1</th>\n",
       "      <td>RF with best feature</td>\n",
       "      <td>91.10</td>\n",
       "      <td>81.12</td>\n",
       "      <td>73.17</td>\n",
       "      <td>85.60</td>\n",
       "      <td>83.30</td>\n",
       "      <td>89.31</td>\n",
       "      <td>0.77</td>\n",
       "    </tr>\n",
       "    <tr>\n",
       "      <th>2</th>\n",
       "      <td>LR with all feature</td>\n",
       "      <td>84.73</td>\n",
       "      <td>81.20</td>\n",
       "      <td>55.50</td>\n",
       "      <td>53.51</td>\n",
       "      <td>64.51</td>\n",
       "      <td>74.59</td>\n",
       "      <td>0.57</td>\n",
       "    </tr>\n",
       "  </tbody>\n",
       "</table>\n",
       "</div>"
      ],
      "text/plain": [
       "                  Model  Accuracy  Precision  Avg_Precision  Recall  F1Score  \\\n",
       "0   RF with all feature     91.45      82.92          74.03   84.40    83.65   \n",
       "1  RF with best feature     91.10      81.12          73.17   85.60    83.30   \n",
       "2   LR with all feature     84.73      81.20          55.50   53.51    64.51   \n",
       "\n",
       "   AUC_ROC score  matthews_corrcoef  \n",
       "0          89.16               0.78  \n",
       "1          89.31               0.77  \n",
       "2          74.59               0.57  "
      ]
     },
     "execution_count": 92,
     "metadata": {},
     "output_type": "execute_result"
    }
   ],
   "source": [
    "Eva_metrics.loc[2] =[model,round(Accuracy*100,2),round(Precision*100,2),round(average_precision*100,2),round(Recall*100,2),round(f1*100,2),round(roc_auc*100,2),round(matthews_corrcoef,2)]\n",
    "Eva_metrics"
   ]
  },
  {
   "cell_type": "markdown",
   "metadata": {},
   "source": [
    "#### 4. Logistic Regression with best feature"
   ]
  },
  {
   "cell_type": "code",
   "execution_count": 93,
   "metadata": {},
   "outputs": [
    {
     "data": {
      "image/png": "[encoded data removed]",
      "text/plain": [
       "<Figure size 432x288 with 1 Axes>"
      ]
     },
     "metadata": {
      "needs_background": "light"
     },
     "output_type": "display_data"
    },
    {
     "name": "stdout",
     "output_type": "stream",
     "text": [
      "Accuracy score  0.8452012383900929\n",
      "Precision score  0.8047404063205418\n",
      "Avg Precision score  0.5495174918793365\n",
      "Recall score  0.5320895522388059\n",
      "F1 score  0.6406109613656784\n",
      "AUC_ROC score  0.7434481199020571\n",
      "matthews_corrcoef score  0.5661540154631819\n"
     ]
    }
   ],
   "source": [
    "X_train, X_test, y_train, y_test = train_test_split(X_res[best_feature_combination], y_res, test_size=0.33,stratify=y_res, random_state=random_state)\n",
    "LR_bf=LogisticRegression().fit(X_train, y_train)\n",
    "ROC_curve(LR_bf,X_test)\n",
    "model,Accuracy,Precision,average_precision,Recall,f1,roc_auc,matthews_corrcoef=evaluation_metric(\"LR with best feature\",LR_bf,X_test,y_test)"
   ]
  },
  {
   "cell_type": "code",
   "execution_count": 94,
   "metadata": {},
   "outputs": [
    {
     "data": {
      "text/plain": [
       "array([[ 713,  627],\n",
       "       [ 173, 3655]], dtype=int64)"
      ]
     },
     "execution_count": 94,
     "metadata": {},
     "output_type": "execute_result"
    }
   ],
   "source": [
    "confusion_matrix(y_test, LR_bf.predict(X_test),labels=[1,0])"
   ]
  },
  {
   "cell_type": "code",
   "execution_count": 95,
   "metadata": {},
   "outputs": [
    {
     "data": {
      "text/html": [
       "<div>\n",
       "<style scoped>\n",
       "    .dataframe tbody tr th:only-of-type {\n",
       "        vertical-align: middle;\n",
       "    }\n",
       "\n",
       "    .dataframe tbody tr th {\n",
       "        vertical-align: top;\n",
       "    }\n",
       "\n",
       "    .dataframe thead th {\n",
       "        text-align: right;\n",
       "    }\n",
       "</style>\n",
       "<table border=\"1\" class=\"dataframe\">\n",
       "  <thead>\n",
       "    <tr style=\"text-align: right;\">\n",
       "      <th></th>\n",
       "      <th>Model</th>\n",
       "      <th>Accuracy</th>\n",
       "      <th>Precision</th>\n",
       "      <th>Avg_Precision</th>\n",
       "      <th>Recall</th>\n",
       "      <th>F1Score</th>\n",
       "      <th>AUC_ROC score</th>\n",
       "      <th>matthews_corrcoef</th>\n",
       "    </tr>\n",
       "  </thead>\n",
       "  <tbody>\n",
       "    <tr>\n",
       "      <th>0</th>\n",
       "      <td>RF with all feature</td>\n",
       "      <td>91.45</td>\n",
       "      <td>82.92</td>\n",
       "      <td>74.03</td>\n",
       "      <td>84.40</td>\n",
       "      <td>83.65</td>\n",
       "      <td>89.16</td>\n",
       "      <td>0.78</td>\n",
       "    </tr>\n",
       "    <tr>\n",
       "      <th>1</th>\n",
       "      <td>RF with best feature</td>\n",
       "      <td>91.10</td>\n",
       "      <td>81.12</td>\n",
       "      <td>73.17</td>\n",
       "      <td>85.60</td>\n",
       "      <td>83.30</td>\n",
       "      <td>89.31</td>\n",
       "      <td>0.77</td>\n",
       "    </tr>\n",
       "    <tr>\n",
       "      <th>2</th>\n",
       "      <td>LR with all feature</td>\n",
       "      <td>84.73</td>\n",
       "      <td>81.20</td>\n",
       "      <td>55.50</td>\n",
       "      <td>53.51</td>\n",
       "      <td>64.51</td>\n",
       "      <td>74.59</td>\n",
       "      <td>0.57</td>\n",
       "    </tr>\n",
       "    <tr>\n",
       "      <th>3</th>\n",
       "      <td>LR with best feature</td>\n",
       "      <td>84.52</td>\n",
       "      <td>80.47</td>\n",
       "      <td>54.95</td>\n",
       "      <td>53.21</td>\n",
       "      <td>64.06</td>\n",
       "      <td>74.34</td>\n",
       "      <td>0.57</td>\n",
       "    </tr>\n",
       "  </tbody>\n",
       "</table>\n",
       "</div>"
      ],
      "text/plain": [
       "                  Model  Accuracy  Precision  Avg_Precision  Recall  F1Score  \\\n",
       "0   RF with all feature     91.45      82.92          74.03   84.40    83.65   \n",
       "1  RF with best feature     91.10      81.12          73.17   85.60    83.30   \n",
       "2   LR with all feature     84.73      81.20          55.50   53.51    64.51   \n",
       "3  LR with best feature     84.52      80.47          54.95   53.21    64.06   \n",
       "\n",
       "   AUC_ROC score  matthews_corrcoef  \n",
       "0          89.16               0.78  \n",
       "1          89.31               0.77  \n",
       "2          74.59               0.57  \n",
       "3          74.34               0.57  "
      ]
     },
     "execution_count": 95,
     "metadata": {},
     "output_type": "execute_result"
    }
   ],
   "source": [
    "Eva_metrics.loc[3] =[model,round(Accuracy*100,2),round(Precision*100,2),round(average_precision*100,2),round(Recall*100,2),round(f1*100,2),round(roc_auc*100,2),round(matthews_corrcoef,2)]\n",
    "Eva_metrics"
   ]
  },
  {
   "cell_type": "markdown",
   "metadata": {},
   "source": [
    "### Tuning the selected Random forest model with best features to improve performance"
   ]
  },
  {
   "cell_type": "code",
   "execution_count": 96,
   "metadata": {},
   "outputs": [
    {
     "name": "stdout",
     "output_type": "stream",
     "text": [
      "Parameters currently in use for RF with best feature:\n",
      "\n",
      "{'bootstrap': True,\n",
      " 'ccp_alpha': 0.0,\n",
      " 'class_weight': None,\n",
      " 'criterion': 'gini',\n",
      " 'max_depth': None,\n",
      " 'max_features': 'auto',\n",
      " 'max_leaf_nodes': None,\n",
      " 'max_samples': None,\n",
      " 'min_impurity_decrease': 0.0,\n",
      " 'min_impurity_split': None,\n",
      " 'min_samples_leaf': 1,\n",
      " 'min_samples_split': 2,\n",
      " 'min_weight_fraction_leaf': 0.0,\n",
      " 'n_estimators': 100,\n",
      " 'n_jobs': None,\n",
      " 'oob_score': False,\n",
      " 'random_state': None,\n",
      " 'verbose': 0,\n",
      " 'warm_start': False}\n"
     ]
    }
   ],
   "source": [
    "from pprint import pprint\n",
    "print('Parameters currently in use for RF with best feature:\\n')\n",
    "pprint(rf_bf.get_params())"
   ]
  },
  {
   "cell_type": "markdown",
   "metadata": {},
   "source": [
    "Based on my previous experience and upon reading the lot of research papers and blog \n",
    "I am going to use this parameter for tuning my model using randomsearchcv algorithm\n",
    "\n",
    "* n_estimators = number of trees in the foreset\n",
    "* max_features = max number of features considered for splitting a node\n",
    "* max_depth = max number of levels in each decision tree\n",
    "* min_samples_split = min number of data points placed in a node before the node is split\n",
    "* min_samples_leaf = min number of data points allowed in a leaf node\n",
    "* bootstrap = method for sampling data points (with or without replacement)"
   ]
  },
  {
   "cell_type": "code",
   "execution_count": 97,
   "metadata": {},
   "outputs": [],
   "source": [
    "from sklearn.model_selection import RandomizedSearchCV\n",
    "from sklearn.model_selection import validation_curve"
   ]
  },
  {
   "cell_type": "markdown",
   "metadata": {},
   "source": [
    "#### Max depth"
   ]
  },
  {
   "cell_type": "code",
   "execution_count": 98,
   "metadata": {},
   "outputs": [
    {
     "data": {
      "image/png": "[encoded data removed]",
      "text/plain": [
       "<Figure size 432x288 with 1 Axes>"
      ]
     },
     "metadata": {
      "needs_background": "light"
     },
     "output_type": "display_data"
    }
   ],
   "source": [
    "# Create range of values for Max Depth\n",
    "param_range = np.arange(1,110,10)\n",
    "\n",
    "# Calculate accuracy on training and test set using range of parameter values\n",
    "train_scores, test_scores = validation_curve(RandomForestClassifier(), \n",
    "                                             X[best_feature_combination], y,\n",
    "                                             param_name=\"max_depth\", \n",
    "                                             param_range=param_range,\n",
    "                                             cv=3, \n",
    "                                             scoring=\"accuracy\", \n",
    "                                             n_jobs=-1)\n",
    "\n",
    "\n",
    "# Plot mean accuracy scores for training and test sets\n",
    "plt.plot(param_range, np.mean(train_scores, axis=1), label=\"Training score\", color=\"black\")\n",
    "plt.plot(param_range, np.mean(test_scores, axis=1), label=\"Cross-validation score\", color=\"dimgrey\")\n",
    "\n",
    "\n",
    "\n",
    "# Create plot\n",
    "plt.title(\"Validation Curve With Random Forest\")\n",
    "plt.xlabel(\"Depth\")\n",
    "plt.ylabel(\"Accuracy Score\")\n",
    "plt.tight_layout()\n",
    "plt.legend(loc=\"best\")\n",
    "plt.show()\n"
   ]
  },
  {
   "cell_type": "markdown",
   "metadata": {},
   "source": [
    "#### min_samples_leaf"
   ]
  },
  {
   "cell_type": "code",
   "execution_count": 99,
   "metadata": {},
   "outputs": [
    {
     "data": {
      "image/png": "[encoded data removed]",
      "text/plain": [
       "<Figure size 432x288 with 1 Axes>"
      ]
     },
     "metadata": {
      "needs_background": "light"
     },
     "output_type": "display_data"
    }
   ],
   "source": [
    "# Create range of values for min_samples_leaf\n",
    "param_range = [1,2,4,6,8,10]\n",
    "\n",
    "# Calculate accuracy on training and test set using range of parameter values\n",
    "train_scores, test_scores = validation_curve(RandomForestClassifier(), \n",
    "                                             X[best_feature_combination], y, \n",
    "                                             param_name=\"min_samples_leaf\", \n",
    "                                             param_range=param_range,\n",
    "                                             cv=3, \n",
    "                                             scoring=\"accuracy\", \n",
    "                                             n_jobs=-1)\n",
    "\n",
    "\n",
    "# Plot mean accuracy scores for training and test sets\n",
    "plt.plot(param_range, np.mean(train_scores, axis=1), label=\"Training score\", color=\"black\")\n",
    "plt.plot(param_range, np.mean(test_scores, axis=1), label=\"Cross-validation score\", color=\"dimgrey\")\n",
    "\n",
    "\n",
    "\n",
    "# Create plot\n",
    "plt.title(\"Validation Curve With Random Forest\")\n",
    "plt.xlabel(\"Number Of sample leaf\")\n",
    "plt.ylabel(\"Accuracy Score\")\n",
    "plt.tight_layout()\n",
    "plt.legend(loc=\"best\")\n",
    "plt.show()\n"
   ]
  },
  {
   "cell_type": "markdown",
   "metadata": {},
   "source": [
    "#### min_samples_split"
   ]
  },
  {
   "cell_type": "code",
   "execution_count": 100,
   "metadata": {},
   "outputs": [
    {
     "data": {
      "image/png": "[encoded data removed]",
      "text/plain": [
       "<Figure size 432x288 with 1 Axes>"
      ]
     },
     "metadata": {
      "needs_background": "light"
     },
     "output_type": "display_data"
    }
   ],
   "source": [
    "# Create range of values for min samples split\n",
    "param_range = [2, 5, 10,15,20]\n",
    "\n",
    "# Calculate accuracy on training and test set using range of parameter values\n",
    "train_scores, test_scores = validation_curve(RandomForestClassifier(), \n",
    "                                             X[best_feature_combination], y, \n",
    "                                             param_name=\"min_samples_split\", \n",
    "                                             param_range=param_range,\n",
    "                                             cv=3, \n",
    "                                             scoring=\"accuracy\", \n",
    "                                             n_jobs=-1)\n",
    "\n",
    "\n",
    "# Calculate mean and standard deviation for training set scores\n",
    "train_mean = np.mean(train_scores, axis=1)\n",
    "\n",
    "\n",
    "# Calculate mean and standard deviation for test set scores\n",
    "test_mean = np.mean(test_scores, axis=1)\n",
    "\n",
    "\n",
    "# Plot mean accuracy scores for training and test sets\n",
    "plt.plot(param_range, train_mean, label=\"Training score\", color=\"black\")\n",
    "plt.plot(param_range, test_mean, label=\"Cross-validation score\", color=\"dimgrey\")\n",
    "\n",
    "\n",
    "\n",
    "# Create plot\n",
    "plt.title(\"Validation Curve With Random Forest\")\n",
    "plt.xlabel(\"Number Of sample split\")\n",
    "plt.ylabel(\"Accuracy Score\")\n",
    "plt.tight_layout()\n",
    "plt.legend(loc=\"best\")\n",
    "plt.show()\n"
   ]
  },
  {
   "cell_type": "markdown",
   "metadata": {},
   "source": [
    "#### N_estimator tuning"
   ]
  },
  {
   "cell_type": "code",
   "execution_count": 101,
   "metadata": {
    "scrolled": true
   },
   "outputs": [
    {
     "data": {
      "image/png": "[encoded data removed]",
      "text/plain": [
       "<Figure size 432x288 with 1 Axes>"
      ]
     },
     "metadata": {
      "needs_background": "light"
     },
     "output_type": "display_data"
    }
   ],
   "source": [
    "# Create range of values for N_estimator\n",
    "param_range = np.arange(1, 2000, 200)\n",
    "\n",
    "# Calculate accuracy on training and test set using range of parameter values\n",
    "train_scores, test_scores = validation_curve(RandomForestClassifier(), \n",
    "                                             X[best_feature_combination], y,\n",
    "                                             param_name=\"n_estimators\", \n",
    "                                             param_range=param_range,\n",
    "                                             cv=3, \n",
    "                                             scoring=\"accuracy\", \n",
    "                                             n_jobs=-1)\n",
    "\n",
    "\n",
    "# Calculate mean and standard deviation for training set scores\n",
    "train_mean = np.mean(train_scores, axis=1)\n",
    "\n",
    "\n",
    "# Calculate mean and standard deviation for test set scores\n",
    "test_mean = np.mean(test_scores, axis=1)\n",
    "\n",
    "\n",
    "# Plot mean accuracy scores for training and test sets\n",
    "plt.plot(param_range, train_mean, label=\"Training score\", color=\"black\")\n",
    "plt.plot(param_range, test_mean, label=\"Cross-validation score\", color=\"dimgrey\")\n",
    "\n",
    "\n",
    "\n",
    "# Create plot\n",
    "plt.title(\"Validation Curve With Random Forest\")\n",
    "plt.xlabel(\"Number Of Trees\")\n",
    "plt.ylabel(\"Accuracy Score\")\n",
    "plt.tight_layout()\n",
    "plt.legend(loc=\"best\")\n",
    "plt.show()\n"
   ]
  },
  {
   "cell_type": "markdown",
   "metadata": {},
   "source": [
    "#### Randomforest tuning using the above observation"
   ]
  },
  {
   "cell_type": "code",
   "execution_count": 102,
   "metadata": {},
   "outputs": [
    {
     "name": "stdout",
     "output_type": "stream",
     "text": [
      "{'bootstrap': [True, False],\n",
      " 'max_depth': [20, 30, 42, 57, 80, None],\n",
      " 'max_features': ['auto', 'sqrt'],\n",
      " 'min_samples_leaf': [1, 2, 5],\n",
      " 'min_samples_split': [2, 5, 7],\n",
      " 'n_estimators': [250, 250, 750, 1000]}\n"
     ]
    }
   ],
   "source": [
    "# Number of trees in random forest [n_estimators]\n",
    "n_estimators = [250,250,750,1000]\n",
    "\n",
    "# Number of features to consider at every split\n",
    "max_features = ['auto', 'sqrt']\n",
    "\n",
    "# Maximum number of levels in tree\n",
    "max_depth = [20,30, 42, 57, 80]\n",
    "max_depth.append(None)\n",
    "\n",
    "# Minimum number of samples required to split a node\n",
    "min_samples_split = [2, 5, 7]\n",
    "\n",
    "# Minimum number of samples required at each leaf node\n",
    "min_samples_leaf = [1,2,5]\n",
    "\n",
    "# Method of selecting samples for training each tree\n",
    "bootstrap = [True, False]\n",
    "\n",
    "# Create the random grid\n",
    "random_grid = {'n_estimators': n_estimators,\n",
    "               'max_features': max_features,\n",
    "               'max_depth': max_depth,\n",
    "               'min_samples_split': min_samples_split,\n",
    "               'min_samples_leaf': min_samples_leaf,\n",
    "               'bootstrap': bootstrap}\n",
    "\n",
    "pprint(random_grid)\n"
   ]
  },
  {
   "cell_type": "code",
   "execution_count": 103,
   "metadata": {},
   "outputs": [
    {
     "name": "stdout",
     "output_type": "stream",
     "text": [
      "Fitting 3 folds for each of 100 candidates, totalling 300 fits\n"
     ]
    },
    {
     "name": "stderr",
     "output_type": "stream",
     "text": [
      "[Parallel(n_jobs=-1)]: Using backend LokyBackend with 8 concurrent workers.\n",
      "[Parallel(n_jobs=-1)]: Done  25 tasks      | elapsed:   43.8s\n",
      "[Parallel(n_jobs=-1)]: Done 146 tasks      | elapsed:  3.6min\n",
      "[Parallel(n_jobs=-1)]: Done 300 out of 300 | elapsed:  7.2min finished\n"
     ]
    },
    {
     "data": {
      "text/plain": [
       "RandomizedSearchCV(cv=3, estimator=RandomForestClassifier(), n_iter=100,\n",
       "                   n_jobs=-1,\n",
       "                   param_distributions={'bootstrap': [True, False],\n",
       "                                        'max_depth': [20, 30, 42, 57, 80, None],\n",
       "                                        'max_features': ['auto', 'sqrt'],\n",
       "                                        'min_samples_leaf': [1, 2, 5],\n",
       "                                        'min_samples_split': [2, 5, 7],\n",
       "                                        'n_estimators': [250, 250, 750, 1000]},\n",
       "                   random_state=1, verbose=2)"
      ]
     },
     "execution_count": 103,
     "metadata": {},
     "output_type": "execute_result"
    }
   ],
   "source": [
    "X_train, X_test, y_train, y_test = train_test_split(X_res[best_feature_combination], y_res, test_size=0.33,stratify=y_res, random_state=random_state)\n",
    "rf_random = RandomizedSearchCV(estimator = rf_bf, param_distributions = random_grid, n_iter = 100, cv = 3, verbose=2, random_state=random_state, n_jobs = -1)\n",
    "# Fit the random search model\n",
    "rf_random.fit(X_train, y_train)"
   ]
  },
  {
   "cell_type": "code",
   "execution_count": 110,
   "metadata": {},
   "outputs": [
    {
     "data": {
      "text/plain": [
       "{'n_estimators': 250,\n",
       " 'min_samples_split': 2,\n",
       " 'min_samples_leaf': 1,\n",
       " 'max_features': 'auto',\n",
       " 'max_depth': None,\n",
       " 'bootstrap': True}"
      ]
     },
     "execution_count": 110,
     "metadata": {},
     "output_type": "execute_result"
    }
   ],
   "source": [
    "rf_random.best_params_"
   ]
  },
  {
   "cell_type": "code",
   "execution_count": 104,
   "metadata": {},
   "outputs": [
    {
     "data": {
      "image/png": "[encoded data removed]",
      "text/plain": [
       "<Figure size 432x288 with 1 Axes>"
      ]
     },
     "metadata": {
      "needs_background": "light"
     },
     "output_type": "display_data"
    },
    {
     "name": "stdout",
     "output_type": "stream",
     "text": [
      "Accuracy score  0.9106037151702786\n",
      "Precision score  0.8074229691876751\n",
      "Avg Precision score  0.730929496700487\n",
      "Recall score  0.8604477611940299\n",
      "F1 score  0.833092485549133\n",
      "AUC_ROC score  0.8943043403671298\n",
      "matthews_corrcoef score  0.7728585436474894\n"
     ]
    },
    {
     "data": {
      "text/plain": [
       "array([[ 713,  627],\n",
       "       [ 173, 3655]], dtype=int64)"
      ]
     },
     "execution_count": 104,
     "metadata": {},
     "output_type": "execute_result"
    }
   ],
   "source": [
    "ROC_curve(rf_random,X_test)\n",
    "model,Accuracy,Precision,average_precision,Recall,f1,roc_auc,matthews_corrcoef=evaluation_metric(\"RF_tuned_with best feature\",rf_random,X_test,y_test)\n",
    "confusion_matrix(y_test, LR_bf.predict(X_test),labels=[1,0])"
   ]
  },
  {
   "cell_type": "code",
   "execution_count": 105,
   "metadata": {},
   "outputs": [],
   "source": [
    "Eva_metrics.loc[4] =[model,round(Accuracy*100,2),round(Precision*100,2),round(average_precision*100,2),round(Recall*100,2),round(f1*100,2),round(roc_auc*100,2),round(matthews_corrcoef,2)]"
   ]
  },
  {
   "cell_type": "markdown",
   "metadata": {},
   "source": [
    "### Model comparison"
   ]
  },
  {
   "cell_type": "code",
   "execution_count": 106,
   "metadata": {},
   "outputs": [
    {
     "data": {
      "text/html": [
       "<div>\n",
       "<style scoped>\n",
       "    .dataframe tbody tr th:only-of-type {\n",
       "        vertical-align: middle;\n",
       "    }\n",
       "\n",
       "    .dataframe tbody tr th {\n",
       "        vertical-align: top;\n",
       "    }\n",
       "\n",
       "    .dataframe thead th {\n",
       "        text-align: right;\n",
       "    }\n",
       "</style>\n",
       "<table border=\"1\" class=\"dataframe\">\n",
       "  <thead>\n",
       "    <tr style=\"text-align: right;\">\n",
       "      <th></th>\n",
       "      <th>Model</th>\n",
       "      <th>Accuracy</th>\n",
       "      <th>Precision</th>\n",
       "      <th>Avg_Precision</th>\n",
       "      <th>Recall</th>\n",
       "      <th>F1Score</th>\n",
       "      <th>AUC_ROC score</th>\n",
       "      <th>matthews_corrcoef</th>\n",
       "    </tr>\n",
       "  </thead>\n",
       "  <tbody>\n",
       "    <tr>\n",
       "      <th>0</th>\n",
       "      <td>RF with all feature</td>\n",
       "      <td>91.45</td>\n",
       "      <td>82.92</td>\n",
       "      <td>74.03</td>\n",
       "      <td>84.40</td>\n",
       "      <td>83.65</td>\n",
       "      <td>89.16</td>\n",
       "      <td>0.78</td>\n",
       "    </tr>\n",
       "    <tr>\n",
       "      <th>1</th>\n",
       "      <td>RF with best feature</td>\n",
       "      <td>91.10</td>\n",
       "      <td>81.12</td>\n",
       "      <td>73.17</td>\n",
       "      <td>85.60</td>\n",
       "      <td>83.30</td>\n",
       "      <td>89.31</td>\n",
       "      <td>0.77</td>\n",
       "    </tr>\n",
       "    <tr>\n",
       "      <th>2</th>\n",
       "      <td>LR with all feature</td>\n",
       "      <td>84.73</td>\n",
       "      <td>81.20</td>\n",
       "      <td>55.50</td>\n",
       "      <td>53.51</td>\n",
       "      <td>64.51</td>\n",
       "      <td>74.59</td>\n",
       "      <td>0.57</td>\n",
       "    </tr>\n",
       "    <tr>\n",
       "      <th>3</th>\n",
       "      <td>LR with best feature</td>\n",
       "      <td>84.52</td>\n",
       "      <td>80.47</td>\n",
       "      <td>54.95</td>\n",
       "      <td>53.21</td>\n",
       "      <td>64.06</td>\n",
       "      <td>74.34</td>\n",
       "      <td>0.57</td>\n",
       "    </tr>\n",
       "    <tr>\n",
       "      <th>4</th>\n",
       "      <td>RF_tuned_with best feature</td>\n",
       "      <td>91.06</td>\n",
       "      <td>80.74</td>\n",
       "      <td>73.09</td>\n",
       "      <td>86.04</td>\n",
       "      <td>83.31</td>\n",
       "      <td>89.43</td>\n",
       "      <td>0.77</td>\n",
       "    </tr>\n",
       "  </tbody>\n",
       "</table>\n",
       "</div>"
      ],
      "text/plain": [
       "                        Model  Accuracy  Precision  Avg_Precision  Recall  \\\n",
       "0         RF with all feature     91.45      82.92          74.03   84.40   \n",
       "1        RF with best feature     91.10      81.12          73.17   85.60   \n",
       "2         LR with all feature     84.73      81.20          55.50   53.51   \n",
       "3        LR with best feature     84.52      80.47          54.95   53.21   \n",
       "4  RF_tuned_with best feature     91.06      80.74          73.09   86.04   \n",
       "\n",
       "   F1Score  AUC_ROC score  matthews_corrcoef  \n",
       "0    83.65          89.16               0.78  \n",
       "1    83.30          89.31               0.77  \n",
       "2    64.51          74.59               0.57  \n",
       "3    64.06          74.34               0.57  \n",
       "4    83.31          89.43               0.77  "
      ]
     },
     "execution_count": 106,
     "metadata": {},
     "output_type": "execute_result"
    }
   ],
   "source": [
    "Eva_metrics"
   ]
  },
  {
   "cell_type": "markdown",
   "metadata": {},
   "source": [
    "### Conclusion"
   ]
  },
  {
   "cell_type": "markdown",
   "metadata": {},
   "source": [
    "Clearly, Random forest is the best model to predict the conversion rate.\n",
    "        * RF with best feature combination does better which is evident from the evalution metrics.\n",
    "        \n",
    "  From Business View:\n",
    "  \n",
    "          Using RF with best feature model says 82 of the 100 actual leads ended up making a  \n",
    "          purchase. Meaning converison rate using this model is 82%.\n",
    "          \n",
    "          Let if we are interested in the capture rate then this model will capture 85 out of 100 actual targeted user. \n",
    "          \n",
    "          To put it simply, precision is the ability of converting as many visitors to buyers as possible, recall is the \n",
    "          ability capture as many of the target segment as possible\n",
    "          "
   ]
  },
  {
   "cell_type": "code",
   "execution_count": null,
   "metadata": {},
   "outputs": [],
   "source": [
    "    "
   ]
  }
 ],
 "metadata": {
  "kernelspec": {
   "display_name": "Python 3",
   "language": "python",
   "name": "python3"
  },
  "language_info": {
   "codemirror_mode": {
    "name": "ipython",
    "version": 3
   },
   "file_extension": ".py",
   "mimetype": "text/x-python",
   "name": "python",
   "nbconvert_exporter": "python",
   "pygments_lexer": "ipython3",
   "version": "3.8.3"
  }
 },
 "nbformat": 4,
 "nbformat_minor": 4
}
